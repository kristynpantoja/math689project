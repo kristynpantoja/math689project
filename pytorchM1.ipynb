{
  "nbformat": 4,
  "nbformat_minor": 0,
  "metadata": {
    "colab": {
      "name": "pytorchM1.ipynb",
      "version": "0.3.2",
      "provenance": [],
      "collapsed_sections": [],
      "include_colab_link": true
    },
    "kernelspec": {
      "name": "python3",
      "display_name": "Python 3"
    }
  },
  "cells": [
    {
      "cell_type": "markdown",
      "metadata": {
        "id": "view-in-github",
        "colab_type": "text"
      },
      "source": [
        "<a href=\"https://colab.research.google.com/github/kristynpantoja/math689project/blob/master/pytorchM1.ipynb\" target=\"_parent\"><img src=\"https://colab.research.google.com/assets/colab-badge.svg\" alt=\"Open In Colab\"/></a>"
      ]
    },
    {
      "metadata": {
        "id": "Yzom68CRUCUt",
        "colab_type": "code",
        "outputId": "3dc69534-d0fe-41ce-a82a-37a23072d2b2",
        "colab": {
          "base_uri": "https://localhost:8080/",
          "height": 34
        }
      },
      "cell_type": "code",
      "source": [
        "!pip install torch"
      ],
      "execution_count": 33,
      "outputs": [
        {
          "output_type": "stream",
          "text": [
            "Requirement already satisfied: torch in /usr/local/lib/python3.6/dist-packages (0.4.1)\n"
          ],
          "name": "stdout"
        }
      ]
    },
    {
      "metadata": {
        "id": "L382anKLUwuE",
        "colab_type": "code",
        "outputId": "80457377-19ea-4d28-85ba-87dac14da90f",
        "colab": {
          "base_uri": "https://localhost:8080/",
          "height": 102
        }
      },
      "cell_type": "code",
      "source": [
        "!pip install torchvision"
      ],
      "execution_count": 2,
      "outputs": [
        {
          "output_type": "stream",
          "text": [
            "Requirement already satisfied: torchvision in /usr/local/lib/python3.6/dist-packages (0.2.1)\n",
            "Requirement already satisfied: pillow>=4.1.1 in /usr/local/lib/python3.6/dist-packages (from torchvision) (5.3.0)\n",
            "Requirement already satisfied: torch in /usr/local/lib/python3.6/dist-packages (from torchvision) (0.4.1)\n",
            "Requirement already satisfied: six in /usr/local/lib/python3.6/dist-packages (from torchvision) (1.11.0)\n",
            "Requirement already satisfied: numpy in /usr/local/lib/python3.6/dist-packages (from torchvision) (1.14.6)\n"
          ],
          "name": "stdout"
        }
      ]
    },
    {
      "metadata": {
        "id": "pJ2ybE0_FuhI",
        "colab_type": "text"
      },
      "cell_type": "markdown",
      "source": [
        "Model Parameters"
      ]
    },
    {
      "metadata": {
        "id": "lsJa9n2aXLrD",
        "colab_type": "code",
        "outputId": "12670c06-a05e-454d-ea62-87cb7eda3fa1",
        "colab": {
          "base_uri": "https://localhost:8080/",
          "height": 34
        }
      },
      "cell_type": "code",
      "source": [
        "# from types import SimpleNamespace\n",
        "\n",
        "# args_dict = {\"batch_size\" : 50, \"epochs\" : 50, \"no_cuda\" : False, \"seed\" : 1, \"log_interval\" : 10}\n",
        "# args = SimpleNamespace(**args_dict)\n",
        "# args.epochs"
      ],
      "execution_count": 252,
      "outputs": [
        {
          "output_type": "execute_result",
          "data": {
            "text/plain": [
              "50"
            ]
          },
          "metadata": {
            "tags": []
          },
          "execution_count": 252
        }
      ]
    },
    {
      "metadata": {
        "id": "Y96bktYniWeB",
        "colab_type": "code",
        "colab": {
          "base_uri": "https://localhost:8080/",
          "height": 734
        },
        "outputId": "62ef559d-c38c-4e1a-b6cf-79b12668c722"
      },
      "cell_type": "code",
      "source": [
        "!pip install gensim"
      ],
      "execution_count": 393,
      "outputs": [
        {
          "output_type": "stream",
          "text": [
            "Collecting gensim\n",
            "\u001b[?25l  Downloading https://files.pythonhosted.org/packages/27/a4/d10c0acc8528d838cda5eede0ee9c784caa598dbf40bd0911ff8d067a7eb/gensim-3.6.0-cp36-cp36m-manylinux1_x86_64.whl (23.6MB)\n",
            "\u001b[K    100% |████████████████████████████████| 23.6MB 698kB/s \n",
            "\u001b[?25hRequirement already satisfied: numpy>=1.11.3 in /usr/local/lib/python3.6/dist-packages (from gensim) (1.14.6)\n",
            "Requirement already satisfied: six>=1.5.0 in /usr/local/lib/python3.6/dist-packages (from gensim) (1.11.0)\n",
            "Collecting smart-open>=1.2.1 (from gensim)\n",
            "  Downloading https://files.pythonhosted.org/packages/4b/1f/6f27e3682124de63ac97a0a5876da6186de6c19410feab66c1543afab055/smart_open-1.7.1.tar.gz\n",
            "Requirement already satisfied: scipy>=0.18.1 in /usr/local/lib/python3.6/dist-packages (from gensim) (0.19.1)\n",
            "Collecting boto>=2.32 (from smart-open>=1.2.1->gensim)\n",
            "\u001b[?25l  Downloading https://files.pythonhosted.org/packages/23/10/c0b78c27298029e4454a472a1919bde20cb182dab1662cec7f2ca1dcc523/boto-2.49.0-py2.py3-none-any.whl (1.4MB)\n",
            "\u001b[K    100% |████████████████████████████████| 1.4MB 12.5MB/s \n",
            "\u001b[?25hCollecting bz2file (from smart-open>=1.2.1->gensim)\n",
            "  Downloading https://files.pythonhosted.org/packages/61/39/122222b5e85cd41c391b68a99ee296584b2a2d1d233e7ee32b4532384f2d/bz2file-0.98.tar.gz\n",
            "Requirement already satisfied: requests in /usr/local/lib/python3.6/dist-packages (from smart-open>=1.2.1->gensim) (2.18.4)\n",
            "Collecting boto3 (from smart-open>=1.2.1->gensim)\n",
            "\u001b[?25l  Downloading https://files.pythonhosted.org/packages/13/3f/fa68bacf76b12e4258240a9bdb6569fb4b041f7586c984be53603e88ca35/boto3-1.9.33-py2.py3-none-any.whl (128kB)\n",
            "\u001b[K    100% |████████████████████████████████| 133kB 24.1MB/s \n",
            "\u001b[?25hRequirement already satisfied: chardet<3.1.0,>=3.0.2 in /usr/local/lib/python3.6/dist-packages (from requests->smart-open>=1.2.1->gensim) (3.0.4)\n",
            "Requirement already satisfied: idna<2.7,>=2.5 in /usr/local/lib/python3.6/dist-packages (from requests->smart-open>=1.2.1->gensim) (2.6)\n",
            "Requirement already satisfied: urllib3<1.23,>=1.21.1 in /usr/local/lib/python3.6/dist-packages (from requests->smart-open>=1.2.1->gensim) (1.22)\n",
            "Requirement already satisfied: certifi>=2017.4.17 in /usr/local/lib/python3.6/dist-packages (from requests->smart-open>=1.2.1->gensim) (2018.10.15)\n",
            "Collecting jmespath<1.0.0,>=0.7.1 (from boto3->smart-open>=1.2.1->gensim)\n",
            "  Downloading https://files.pythonhosted.org/packages/b7/31/05c8d001f7f87f0f07289a5fc0fc3832e9a57f2dbd4d3b0fee70e0d51365/jmespath-0.9.3-py2.py3-none-any.whl\n",
            "Collecting s3transfer<0.2.0,>=0.1.10 (from boto3->smart-open>=1.2.1->gensim)\n",
            "\u001b[?25l  Downloading https://files.pythonhosted.org/packages/d7/14/2a0004d487464d120c9fb85313a75cd3d71a7506955be458eebfe19a6b1d/s3transfer-0.1.13-py2.py3-none-any.whl (59kB)\n",
            "\u001b[K    100% |████████████████████████████████| 61kB 19.6MB/s \n",
            "\u001b[?25hCollecting botocore<1.13.0,>=1.12.33 (from boto3->smart-open>=1.2.1->gensim)\n",
            "\u001b[?25l  Downloading https://files.pythonhosted.org/packages/65/36/f9c082bb4d20db5b271920db657589ee3d6784d5f40c30b3c8600b80d4a5/botocore-1.12.33-py2.py3-none-any.whl (4.7MB)\n",
            "\u001b[K    100% |████████████████████████████████| 4.7MB 6.0MB/s \n",
            "\u001b[?25hRequirement already satisfied: python-dateutil<3.0.0,>=2.1; python_version >= \"2.7\" in /usr/local/lib/python3.6/dist-packages (from botocore<1.13.0,>=1.12.33->boto3->smart-open>=1.2.1->gensim) (2.5.3)\n",
            "Collecting docutils>=0.10 (from botocore<1.13.0,>=1.12.33->boto3->smart-open>=1.2.1->gensim)\n",
            "\u001b[?25l  Downloading https://files.pythonhosted.org/packages/36/fa/08e9e6e0e3cbd1d362c3bbee8d01d0aedb2155c4ac112b19ef3cae8eed8d/docutils-0.14-py3-none-any.whl (543kB)\n",
            "\u001b[K    100% |████████████████████████████████| 552kB 23.8MB/s \n",
            "\u001b[?25hBuilding wheels for collected packages: smart-open, bz2file\n",
            "  Running setup.py bdist_wheel for smart-open ... \u001b[?25l-\b \b\\\b \bdone\n",
            "\u001b[?25h  Stored in directory: /root/.cache/pip/wheels/23/00/44/e5b939f7a80c04e32297dbd6d96fa3065af89ecf57e2b5f89f\n",
            "  Running setup.py bdist_wheel for bz2file ... \u001b[?25l-\b \bdone\n",
            "\u001b[?25h  Stored in directory: /root/.cache/pip/wheels/81/75/d6/e1317bf09bf1af5a30befc2a007869fa6e1f516b8f7c591cb9\n",
            "Successfully built smart-open bz2file\n",
            "Installing collected packages: boto, bz2file, jmespath, docutils, botocore, s3transfer, boto3, smart-open, gensim\n",
            "Successfully installed boto-2.49.0 boto3-1.9.33 botocore-1.12.33 bz2file-0.98 docutils-0.14 gensim-3.6.0 jmespath-0.9.3 s3transfer-0.1.13 smart-open-1.7.1\n"
          ],
          "name": "stdout"
        }
      ]
    },
    {
      "metadata": {
        "id": "-D3sQR-gF0Vk",
        "colab_type": "text"
      },
      "cell_type": "markdown",
      "source": [
        "Data: 20newsgroups\n",
        "We get the document-term matrix"
      ]
    },
    {
      "metadata": {
        "id": "f5gixJ2PhDZy",
        "colab_type": "code",
        "colab": {
          "base_uri": "https://localhost:8080/",
          "height": 34
        },
        "outputId": "cb8ab164-7047-4d0f-e418-e05279eeba9d"
      },
      "cell_type": "code",
      "source": [
        "from __future__ import print_function\n",
        "import argparse\n",
        "import torch\n",
        "import torch.utils.data\n",
        "from torch import nn, optim\n",
        "from torch.nn import functional as F\n",
        "from torchvision import datasets, transforms\n",
        "from torchvision.utils import save_image\n",
        "\n",
        "from types import SimpleNamespace\n",
        "\n",
        "from sklearn.datasets import fetch_20newsgroups\n",
        "import numpy as np\n",
        "import torch\n",
        "# from gensim.models import Word2Vec\n",
        "from sklearn.metrics.pairwise import cosine_similarity\n",
        "\n",
        "from sklearn.feature_extraction.text import CountVectorizer\n",
        "# categories = ['alt.atheism', 'talk.religion.misc', 'comp.graphics', 'sci.space']\n",
        "# newsgroups_train = fetch_20newsgroups(subset='train', categories=categories)\n",
        "newsgroups_train = fetch_20newsgroups(subset='train')\n",
        "vectorizer = CountVectorizer(min_df=.01, max_df=0.05, stop_words = 'english',\n",
        "                             token_pattern = u'(?ui)\\\\b[a-z]{3,}\\\\b')\n",
        "count_vecs = vectorizer.fit_transform(newsgroups_train.data)\n",
        "doc_term_matrix = count_vecs.toarray()\n",
        "doc_term_matrix.shape # number of documents, number of words (in vocab)"
      ],
      "execution_count": 1,
      "outputs": [
        {
          "output_type": "execute_result",
          "data": {
            "text/plain": [
              "(11314, 1544)"
            ]
          },
          "metadata": {
            "tags": []
          },
          "execution_count": 1
        }
      ]
    },
    {
      "metadata": {
        "id": "6Sm8WG-SqMko",
        "colab_type": "code",
        "colab": {}
      },
      "cell_type": "code",
      "source": [
        "vectorizer.get_feature_names()"
      ],
      "execution_count": 0,
      "outputs": []
    },
    {
      "metadata": {
        "id": "ECE01K5OF9r0",
        "colab_type": "text"
      },
      "cell_type": "markdown",
      "source": [
        "ragged array of words in each document (by index in vocabulary)"
      ]
    },
    {
      "metadata": {
        "id": "NKDN2_x45V44",
        "colab_type": "code",
        "colab": {}
      },
      "cell_type": "code",
      "source": [
        "def countsToInput(row):\n",
        "  return np.repeat(np.arange(doc_term_matrix.shape[1]),row)\n",
        "  \n",
        "def numWords(row):\n",
        "  return row.sum()\n",
        "\n",
        "N_train = np.apply_along_axis(numWords, axis=1, arr=doc_term_matrix)\n",
        "data_train = []\n",
        "for d in range(doc_term_matrix.shape[0]):\n",
        "  data_train.append(torch.from_numpy(countsToInput(doc_term_matrix[d])))\n",
        "\n"
      ],
      "execution_count": 0,
      "outputs": []
    },
    {
      "metadata": {
        "id": "Ax8q70r25toc",
        "colab_type": "code",
        "colab": {
          "base_uri": "https://localhost:8080/",
          "height": 68
        },
        "outputId": "ea650c4b-8a91-4ed2-a0da-f5d86d79b950"
      },
      "cell_type": "code",
      "source": [
        "data_train[1030]"
      ],
      "execution_count": 20,
      "outputs": [
        {
          "output_type": "execute_result",
          "data": {
            "text/plain": [
              "tensor([  27,   65,  160,  160,  161,  161,  240,  266,  323,  339,  416,  427,\n",
              "         549,  617,  658,  772,  844,  844,  844, 1082, 1083, 1099, 1120, 1120,\n",
              "        1120, 1120, 1120, 1124, 1165, 1214, 1292, 1297, 1318, 1333, 1449])"
            ]
          },
          "metadata": {
            "tags": []
          },
          "execution_count": 20
        }
      ]
    },
    {
      "metadata": {
        "id": "FrATqONaiDBo",
        "colab_type": "text"
      },
      "cell_type": "markdown",
      "source": [
        "## Word2vec"
      ]
    },
    {
      "metadata": {
        "id": "41uIgMA1iCEE",
        "colab_type": "code",
        "colab": {}
      },
      "cell_type": "code",
      "source": [
        ""
      ],
      "execution_count": 0,
      "outputs": []
    },
    {
      "metadata": {
        "id": "cminuIk9iKtb",
        "colab_type": "code",
        "colab": {}
      },
      "cell_type": "code",
      "source": [
        ""
      ],
      "execution_count": 0,
      "outputs": []
    },
    {
      "metadata": {
        "id": "j2FGqYXbiKxS",
        "colab_type": "code",
        "colab": {}
      },
      "cell_type": "code",
      "source": [
        ""
      ],
      "execution_count": 0,
      "outputs": []
    },
    {
      "metadata": {
        "id": "IbPA5MeViK9w",
        "colab_type": "code",
        "colab": {}
      },
      "cell_type": "code",
      "source": [
        ""
      ],
      "execution_count": 0,
      "outputs": []
    },
    {
      "metadata": {
        "id": "8ASbgnVqGDvU",
        "colab_type": "text"
      },
      "cell_type": "markdown",
      "source": [
        "## Setup for Model"
      ]
    },
    {
      "metadata": {
        "id": "HoGhPn8n4Gok",
        "colab_type": "code",
        "colab": {}
      },
      "cell_type": "code",
      "source": [
        "\n",
        "\n",
        "# from types import SimpleNamespace\n",
        "\n",
        "\n",
        "# args_dict = {\"batch_size\" : 50, \"epochs\" : 50, \"no_cuda\" : False, \"seed\" : 1, \"log_interval\" : 10}\n",
        "# args = SimpleNamespace(**args_dict)\n",
        "# args.cuda = not args.no_cuda and torch.cuda.is_available()\n",
        "\n",
        "\n",
        "args_dict = {\"batch_size\" : 50, \"epochs\" : 50, \"no_cuda\" : False, \"seed\" : 1, \"log_interval\" : 100}\n",
        "args = SimpleNamespace(**args_dict)\n",
        "\n",
        "\n",
        "\n",
        "\n",
        "\n",
        "\n",
        "####3\n",
        "\n",
        "\n",
        "args.cuda = not args.no_cuda and torch.cuda.is_available()\n",
        "\n",
        "torch.manual_seed(args.seed)\n",
        "\n",
        "device = torch.device(\"cuda\" if args.cuda else \"cpu\")\n",
        "\n",
        "kwargs = {'num_workers': 1, 'pin_memory': True} if args.cuda else {}\n",
        "train_loader = torch.utils.data.DataLoader(\n",
        "    datasets.MNIST('../data', train=True, download=True,\n",
        "                   transform=transforms.ToTensor()),\n",
        "    batch_size=args.batch_size, shuffle=True, **kwargs)\n",
        "test_loader = torch.utils.data.DataLoader(\n",
        "    datasets.MNIST('../data', train=False, transform=transforms.ToTensor()),\n",
        "    batch_size=args.batch_size, shuffle=True, **kwargs)\n",
        "\n",
        "\n",
        "\n"
      ],
      "execution_count": 0,
      "outputs": []
    },
    {
      "metadata": {
        "id": "6E6F6rVgGXnS",
        "colab_type": "text"
      },
      "cell_type": "markdown",
      "source": [
        "Define model"
      ]
    },
    {
      "metadata": {
        "id": "vwZfWV16T97w",
        "colab_type": "code",
        "colab": {}
      },
      "cell_type": "code",
      "source": [
        "class VAE(nn.Module):\n",
        "    def __init__(self, num_docs):\n",
        "        super(VAE, self).__init__()\n",
        "        \n",
        "        vocab_size = doc_term_matrix.shape[1]\n",
        "        wordvec_dim = 100\n",
        "        encoder_hidden = 256\n",
        "        rp_normal_dim = 100\n",
        "        K = 6\n",
        "        self.num_docs = num_docs\n",
        "        self.word_embedding = nn.Embedding(vocab_size, wordvec_dim) # decoder\n",
        "        self.topic_embedding = nn.Embedding(K, wordvec_dim) # decoder\n",
        "        self.lin1 = nn.Linear(vocab_size, encoder_hidden) # encoder\n",
        "        self.mean = nn.Linear(encoder_hidden, rp_normal_dim) # encoder\n",
        "        self.logvar = nn.Linear(encoder_hidden, rp_normal_dim) # encoder\n",
        "        self.lin2 = nn.Linear(rp_normal_dim, K) # decoder \n",
        "        #self.topicslayer = nn.Linear(wordvec_dim, K) # decoder\n",
        "        self.beta = torch.zeros([K, vocab_size], dtype = torch.float32) # decoder\n",
        "\n",
        "    def encode(self, x):\n",
        "#         h1 = F.relu(self.lin1(x))\n",
        "        h1 = self.lin1(x)\n",
        "        return self.mean(h1), self.logvar(h1)\n",
        "\n",
        "    def reparameterize(self, mu, logvar):\n",
        "        std = torch.exp(0.5*logvar)\n",
        "        eps = torch.randn_like(std)\n",
        "        return eps.mul(std).add_(mu) # this gives x ~ N(mu, var)\n",
        "\n",
        "      \n",
        "    def decode(self, z):\n",
        "        x = self.lin2(z) \n",
        "        theta = F.softmax(x, dim = 1) # to get theta, dim = batch size x K\n",
        "        #word_dot_topic = self.topicslayer(self.word_embedding.weight) # weights corresp to topic vector\n",
        "        self.beta = F.softmax(torch.mm(self.word_embedding.weight, \n",
        "                                       torch.transpose(self.topic_embedding.weight, 0, 1)), dim = 0) # beta dim = V x K\n",
        "        log_theta_dot_beta = torch.log(torch.mm(theta, torch.transpose(self.beta, 0, 1))) # dim = batch size x V\n",
        "        #theta_dot_beta = torch.exp(log_theta_dot_beta - torch.logsumexp(log_theta_dot_beta, dim = 0))\n",
        "        ####log_theta_dot_beta_normalized = log_theta_dot_beta - torch.logsumexp(log_theta_dot_beta, dim = 0)\n",
        "        return log_theta_dot_beta ####log_theta_dot_beta_normalized\n",
        "        \n",
        "    def forward(self, doc):\n",
        "        mu, logvar = self.encode(doc)\n",
        "        z = self.reparameterize(mu, logvar)\n",
        "        return self.decode(z), mu, logvar, self.topic_embedding.weight\n",
        "        \n",
        "\n",
        "\n",
        "      \n"
      ],
      "execution_count": 0,
      "outputs": []
    },
    {
      "metadata": {
        "id": "uoGmoqZjaAHr",
        "colab_type": "text"
      },
      "cell_type": "markdown",
      "source": [
        "Load training data (separate into batches)"
      ]
    },
    {
      "metadata": {
        "id": "yWSJgB41sicr",
        "colab_type": "code",
        "colab": {}
      },
      "cell_type": "code",
      "source": [
        "# mnist_train_loader = torch.utils.data.DataLoader(\n",
        "#     datasets.MNIST('../data', train=True, download=True,\n",
        "#                    transform=transforms.ToTensor()),\n",
        "#     batch_size=args.batch_size, shuffle=True, **kwargs)\n",
        "# # enumerate(train_loader)\n",
        "\n",
        "train_data = torch.utils.data.TensorDataset(torch.tensor(doc_term_matrix))\n",
        "train_loader = torch.utils.data.DataLoader(train_data,                                            \n",
        "    batch_size = args.batch_size, shuffle = True)"
      ],
      "execution_count": 0,
      "outputs": []
    },
    {
      "metadata": {
        "id": "dt0_YBz5aQEI",
        "colab_type": "text"
      },
      "cell_type": "markdown",
      "source": [
        "instantiate model and define functions for training"
      ]
    },
    {
      "metadata": {
        "id": "DO5T6YFkCTIN",
        "colab_type": "code",
        "colab": {}
      },
      "cell_type": "code",
      "source": [
        "model = VAE(doc_term_matrix.shape[1]).to(device) \n",
        "      \n",
        "optimizer = optim.Adam(model.parameters(), lr=1e-3)\n",
        "# optimizer = optim.RMSprop(model.parameters(), lr = 1e-3)\n",
        "\n",
        "# Reconstruction + KL divergence losses summed over all elements and batch\n",
        "def loss_function(log_theta_dot_beta, x, mu, logvar, t):\n",
        "    BCE = log_theta_dot_beta.sum()\n",
        "    KLD = -0.5 * torch.sum(1 + logvar - mu.pow(2) - logvar.exp())\n",
        "#     K = t.shape[0]\n",
        "#     arccos = []\n",
        "#     for j in range(K):\n",
        "#         for k in range(j, K):\n",
        "#             arccos.append(torch.acos(torch.dot(t[:, j], t[:, k]) /\n",
        "#                                                    (max(t[:, j].norm() * t[:, k].norm(), 1e-5))))\n",
        "#             arccos.append(F.cosine_similarity(t[:, j], t[:, k]))\n",
        "#     arccos = torch.tensor(arccos)\n",
        "#     print(arccos.max())\n",
        "#     zeta = (1 / (K * K)) * arccos.sum()\n",
        "#     nu = torch.zeros(1)\n",
        "#     print(\"zeta: \" + str(zeta) + \"nu: \" + str(nu))\n",
        "#     for a in arccos:\n",
        "#         nu = nu.add((a - zeta).pow(2))\n",
        "#     nu = (1 / (K * K)) * nu\n",
        "    return - BCE + KLD# - .1 * (zeta - nu)\n",
        "\n",
        "enc_variables = list(model.lin1.parameters()) + list(model.mean.parameters()) +  list(model.logvar.parameters())\n",
        "dec_variables = list(model.word_embedding.parameters()) + list(model.lin2.parameters()) + list(model.topic_embedding.parameters())\n",
        "\n",
        "\n",
        "optim_enc = optim.Adam(enc_variables, lr=1e-3)\n",
        "optim_dec = optim.Adam(dec_variables, lr=1e-3)\n",
        "\n",
        "def train(epoch):\n",
        "    model.train()\n",
        "    train_loss = 0\n",
        "#     for switch in range(0,2):\n",
        "#         if switch == 0:\n",
        "#             print(\"updating encoder variables\")\n",
        "#             optimizer = optim_enc\n",
        "#         else:\n",
        "#             print(\"updating decoder variables\")\n",
        "#             optimizer = optim_dec\n",
        "    for batch_idx, data in enumerate(train_loader):\n",
        "        #data = data.to(device)\n",
        "        optimizer.zero_grad()\n",
        "        log_theta_beta, mu, logvar, topic_vecs = model(data[0].float())\n",
        "        loss = loss_function(log_theta_beta, data, mu, logvar, topic_vecs)\n",
        "        loss.backward()\n",
        "        train_loss += loss.item()\n",
        "        optimizer.step()\n",
        "        if batch_idx % args.log_interval == 0:\n",
        "            print('Train Epoch: {} [{}/{} ({:.0f}%)]\\tLoss: {:.6f}'.format(\n",
        "                epoch, batch_idx * data[0].shape[0], len(train_loader.dataset),\n",
        "                100. * batch_idx / len(train_loader),\n",
        "                loss.item() / data[0].shape[0]))\n",
        "\n",
        "    print('====> Epoch: {} Average loss: {:.4f}'.format(\n",
        "          epoch, train_loss / len(train_loader.dataset)))\n",
        "\n",
        "    return train_loss / len(train_loader.dataset)\n",
        "\n",
        "\n",
        "# def test(epoch):\n",
        "#     model.eval()\n",
        "#     test_loss = 0\n",
        "#     with torch.no_grad():\n",
        "#         for i, (data, _) in enumerate(test_loader):\n",
        "#             data = data.to(device)\n",
        "#             recon_batch, mu, logvar = model(data)\n",
        "#             test_loss += loss_function(recon_batch, data, mu, logvar).item()\n",
        "#             if i == 0:\n",
        "#                 n = min(data.size(0), 8)\n",
        "#                 comparison = torch.cat([data[:n],\n",
        "#                                       recon_batch.view(args.batch_size, 1, 28, 28)[:n]])\n",
        "# #                 save_image(comparison.cpu(),\n",
        "# #                          'results/reconstruction_' + str(epoch) + '.png', nrow=n)\n",
        "\n",
        "#     test_loss /= len(test_loader.dataset)\n",
        "#     print('====> Test set loss: {:.4f}'.format(test_loss))\n",
        "\n",
        "# if __name__ == \"__main__\":\n",
        "#     for epoch in range(1, args.epochs + 1):\n",
        "#         train(epoch)\n",
        "#         test(epoch)\n",
        "#         with torch.no_grad():\n",
        "#             sample = torch.randn(64, 20).to(device)\n",
        "#             sample = model.decode(sample).cpu()\n",
        "#             save_image(sample.view(64, 1, 28, 28),\n",
        "#                        'results/sample_' + str(epoch) + '.png')"
      ],
      "execution_count": 0,
      "outputs": []
    },
    {
      "metadata": {
        "id": "zuF9sAfDGjUE",
        "colab_type": "text"
      },
      "cell_type": "markdown",
      "source": [
        " train the model"
      ]
    },
    {
      "metadata": {
        "id": "WfzHoXkeDrx7",
        "colab_type": "code",
        "colab": {}
      },
      "cell_type": "code",
      "source": [
        "#model = VAE(doc_term_matrix.shape[1])#.to(device)"
      ],
      "execution_count": 0,
      "outputs": []
    },
    {
      "metadata": {
        "id": "U6YlBb8cmhUa",
        "colab_type": "text"
      },
      "cell_type": "markdown",
      "source": [
        ""
      ]
    },
    {
      "metadata": {
        "id": "XY-GsKzb3b_h",
        "colab_type": "code",
        "colab": {
          "base_uri": "https://localhost:8080/",
          "height": 1867
        },
        "outputId": "a3a3a9eb-312b-4250-be18-5d48f27b2580"
      },
      "cell_type": "code",
      "source": [
        "losses = []\n",
        "for epoch in range(1, args.epochs + 1):\n",
        "    losses.append(train(epoch))\n",
        "    if epoch > 1:\n",
        "        if np.abs(losses[epoch-1] - losses[epoch-2]) < 1e-2:\n",
        "            break\n"
      ],
      "execution_count": 425,
      "outputs": [
        {
          "output_type": "stream",
          "text": [
            "Train Epoch: 1 [0/11314 (0%)]\tLoss: 38085.567500\n",
            "Train Epoch: 1 [5000/11314 (44%)]\tLoss: 14909.576250\n",
            "Train Epoch: 1 [10000/11314 (88%)]\tLoss: 11513.456250\n",
            "====> Epoch: 1 Average loss: 1778555.3972\n",
            "Train Epoch: 2 [0/11314 (0%)]\tLoss: 11422.237500\n",
            "Train Epoch: 2 [5000/11314 (44%)]\tLoss: 11381.053750\n",
            "Train Epoch: 2 [10000/11314 (88%)]\tLoss: 11383.158750\n",
            "====> Epoch: 2 Average loss: 235546620754.3593\n",
            "Train Epoch: 3 [0/11314 (0%)]\tLoss: 11387.018750\n",
            "Train Epoch: 3 [5000/11314 (44%)]\tLoss: 11441.125000\n",
            "Train Epoch: 3 [10000/11314 (88%)]\tLoss: 11433.386250\n",
            "====> Epoch: 3 Average loss: 298834.8986\n",
            "Train Epoch: 4 [0/11314 (0%)]\tLoss: 11361.048750\n",
            "Train Epoch: 4 [5000/11314 (44%)]\tLoss: 11386.891250\n",
            "Train Epoch: 4 [10000/11314 (88%)]\tLoss: 11364.223750\n",
            "====> Epoch: 4 Average loss: 11400.2419\n",
            "Train Epoch: 5 [0/11314 (0%)]\tLoss: 11492.270000\n",
            "Train Epoch: 5 [5000/11314 (44%)]\tLoss: 11363.186250\n",
            "Train Epoch: 5 [10000/11314 (88%)]\tLoss: 11363.101250\n",
            "====> Epoch: 5 Average loss: 11561.9956\n",
            "Train Epoch: 6 [0/11314 (0%)]\tLoss: 11367.998750\n",
            "Train Epoch: 6 [5000/11314 (44%)]\tLoss: 11386.811250\n",
            "Train Epoch: 6 [10000/11314 (88%)]\tLoss: 11352.496250\n",
            "====> Epoch: 6 Average loss: 11380.6187\n",
            "Train Epoch: 7 [0/11314 (0%)]\tLoss: 11361.553750\n",
            "Train Epoch: 7 [5000/11314 (44%)]\tLoss: 11356.623750\n",
            "Train Epoch: 7 [10000/11314 (88%)]\tLoss: 11358.348750\n",
            "====> Epoch: 7 Average loss: 11367.1507\n",
            "Train Epoch: 8 [0/11314 (0%)]\tLoss: 11355.112500\n",
            "Train Epoch: 8 [5000/11314 (44%)]\tLoss: 11358.106250\n",
            "Train Epoch: 8 [10000/11314 (88%)]\tLoss: 11361.620000\n",
            "====> Epoch: 8 Average loss: 11375.0276\n",
            "Train Epoch: 9 [0/11314 (0%)]\tLoss: 11354.286250\n",
            "Train Epoch: 9 [5000/11314 (44%)]\tLoss: 11352.288750\n",
            "Train Epoch: 9 [10000/11314 (88%)]\tLoss: 11373.861250\n",
            "====> Epoch: 9 Average loss: 40077.3688\n",
            "Train Epoch: 10 [0/11314 (0%)]\tLoss: 11367.295000\n",
            "Train Epoch: 10 [5000/11314 (44%)]\tLoss: 11392.083750\n",
            "Train Epoch: 10 [10000/11314 (88%)]\tLoss: 11358.667500\n",
            "====> Epoch: 10 Average loss: 6048361.4972\n",
            "Train Epoch: 11 [0/11314 (0%)]\tLoss: 11360.607500\n",
            "Train Epoch: 11 [5000/11314 (44%)]\tLoss: 11347.360000\n",
            "Train Epoch: 11 [10000/11314 (88%)]\tLoss: 11369.103750\n",
            "====> Epoch: 11 Average loss: 19332226.9841\n",
            "Train Epoch: 12 [0/11314 (0%)]\tLoss: 11385.495000\n",
            "Train Epoch: 12 [5000/11314 (44%)]\tLoss: 11400.098750\n",
            "Train Epoch: 12 [10000/11314 (88%)]\tLoss: 11355.035000\n",
            "====> Epoch: 12 Average loss: 3827120.5723\n",
            "Train Epoch: 13 [0/11314 (0%)]\tLoss: 11357.096250\n",
            "Train Epoch: 13 [5000/11314 (44%)]\tLoss: 11360.100000\n",
            "Train Epoch: 13 [10000/11314 (88%)]\tLoss: 11358.076250\n",
            "====> Epoch: 13 Average loss: 14373.7171\n",
            "Train Epoch: 14 [0/11314 (0%)]\tLoss: 11356.333750\n",
            "Train Epoch: 14 [5000/11314 (44%)]\tLoss: 11350.791250\n",
            "Train Epoch: 14 [10000/11314 (88%)]\tLoss: 11376.172500\n",
            "====> Epoch: 14 Average loss: 11368.7446\n",
            "Train Epoch: 15 [0/11314 (0%)]\tLoss: 11356.066250\n",
            "Train Epoch: 15 [5000/11314 (44%)]\tLoss: 11359.952500\n",
            "Train Epoch: 15 [10000/11314 (88%)]\tLoss: 11349.023750\n",
            "====> Epoch: 15 Average loss: 11383.7593\n",
            "Train Epoch: 16 [0/11314 (0%)]\tLoss: 11356.468750\n",
            "Train Epoch: 16 [5000/11314 (44%)]\tLoss: 11352.913750\n",
            "Train Epoch: 16 [10000/11314 (88%)]\tLoss: 11382.090000\n",
            "====> Epoch: 16 Average loss: 11403.9525\n",
            "Train Epoch: 17 [0/11314 (0%)]\tLoss: 11372.307500\n",
            "Train Epoch: 17 [5000/11314 (44%)]\tLoss: 11369.881250\n",
            "Train Epoch: 17 [10000/11314 (88%)]\tLoss: 11365.311250\n",
            "====> Epoch: 17 Average loss: 46869.4393\n",
            "Train Epoch: 18 [0/11314 (0%)]\tLoss: 11351.040000\n",
            "Train Epoch: 18 [5000/11314 (44%)]\tLoss: 11390.743750\n",
            "Train Epoch: 18 [10000/11314 (88%)]\tLoss: 11362.745000\n",
            "====> Epoch: 18 Average loss: 11611.3160\n",
            "Train Epoch: 19 [0/11314 (0%)]\tLoss: 11365.152500\n",
            "Train Epoch: 19 [5000/11314 (44%)]\tLoss: 11350.700000\n"
          ],
          "name": "stdout"
        },
        {
          "output_type": "error",
          "ename": "KeyboardInterrupt",
          "evalue": "ignored",
          "traceback": [
            "\u001b[0;31m---------------------------------------------------------------------------\u001b[0m",
            "\u001b[0;31mKeyboardInterrupt\u001b[0m                         Traceback (most recent call last)",
            "\u001b[0;32m<ipython-input-425-18d775ae6114>\u001b[0m in \u001b[0;36m<module>\u001b[0;34m()\u001b[0m\n\u001b[1;32m      1\u001b[0m \u001b[0mlosses\u001b[0m \u001b[0;34m=\u001b[0m \u001b[0;34m[\u001b[0m\u001b[0;34m]\u001b[0m\u001b[0;34m\u001b[0m\u001b[0m\n\u001b[1;32m      2\u001b[0m \u001b[0;32mfor\u001b[0m \u001b[0mepoch\u001b[0m \u001b[0;32min\u001b[0m \u001b[0mrange\u001b[0m\u001b[0;34m(\u001b[0m\u001b[0;36m1\u001b[0m\u001b[0;34m,\u001b[0m \u001b[0margs\u001b[0m\u001b[0;34m.\u001b[0m\u001b[0mepochs\u001b[0m \u001b[0;34m+\u001b[0m \u001b[0;36m1\u001b[0m\u001b[0;34m)\u001b[0m\u001b[0;34m:\u001b[0m\u001b[0;34m\u001b[0m\u001b[0m\n\u001b[0;32m----> 3\u001b[0;31m     \u001b[0mlosses\u001b[0m\u001b[0;34m.\u001b[0m\u001b[0mappend\u001b[0m\u001b[0;34m(\u001b[0m\u001b[0mtrain\u001b[0m\u001b[0;34m(\u001b[0m\u001b[0mepoch\u001b[0m\u001b[0;34m)\u001b[0m\u001b[0;34m)\u001b[0m\u001b[0;34m\u001b[0m\u001b[0m\n\u001b[0m\u001b[1;32m      4\u001b[0m     \u001b[0;32mif\u001b[0m \u001b[0mepoch\u001b[0m \u001b[0;34m>\u001b[0m \u001b[0;36m1\u001b[0m\u001b[0;34m:\u001b[0m\u001b[0;34m\u001b[0m\u001b[0m\n\u001b[1;32m      5\u001b[0m         \u001b[0;32mif\u001b[0m \u001b[0mnp\u001b[0m\u001b[0;34m.\u001b[0m\u001b[0mabs\u001b[0m\u001b[0;34m(\u001b[0m\u001b[0mlosses\u001b[0m\u001b[0;34m[\u001b[0m\u001b[0mepoch\u001b[0m\u001b[0;34m-\u001b[0m\u001b[0;36m1\u001b[0m\u001b[0;34m]\u001b[0m \u001b[0;34m-\u001b[0m \u001b[0mlosses\u001b[0m\u001b[0;34m[\u001b[0m\u001b[0mepoch\u001b[0m\u001b[0;34m-\u001b[0m\u001b[0;36m2\u001b[0m\u001b[0;34m]\u001b[0m\u001b[0;34m)\u001b[0m \u001b[0;34m<\u001b[0m \u001b[0;36m1e-2\u001b[0m\u001b[0;34m:\u001b[0m\u001b[0;34m\u001b[0m\u001b[0m\n",
            "\u001b[0;32m<ipython-input-424-723ab2f8d0ec>\u001b[0m in \u001b[0;36mtrain\u001b[0;34m(epoch)\u001b[0m\n\u001b[1;32m     47\u001b[0m         \u001b[0mlog_theta_beta\u001b[0m\u001b[0;34m,\u001b[0m \u001b[0mmu\u001b[0m\u001b[0;34m,\u001b[0m \u001b[0mlogvar\u001b[0m\u001b[0;34m,\u001b[0m \u001b[0mtopic_vecs\u001b[0m \u001b[0;34m=\u001b[0m \u001b[0mmodel\u001b[0m\u001b[0;34m(\u001b[0m\u001b[0mdata\u001b[0m\u001b[0;34m[\u001b[0m\u001b[0;36m0\u001b[0m\u001b[0;34m]\u001b[0m\u001b[0;34m.\u001b[0m\u001b[0mfloat\u001b[0m\u001b[0;34m(\u001b[0m\u001b[0;34m)\u001b[0m\u001b[0;34m)\u001b[0m\u001b[0;34m\u001b[0m\u001b[0m\n\u001b[1;32m     48\u001b[0m         \u001b[0mloss\u001b[0m \u001b[0;34m=\u001b[0m \u001b[0mloss_function\u001b[0m\u001b[0;34m(\u001b[0m\u001b[0mlog_theta_beta\u001b[0m\u001b[0;34m,\u001b[0m \u001b[0mdata\u001b[0m\u001b[0;34m,\u001b[0m \u001b[0mmu\u001b[0m\u001b[0;34m,\u001b[0m \u001b[0mlogvar\u001b[0m\u001b[0;34m,\u001b[0m \u001b[0mtopic_vecs\u001b[0m\u001b[0;34m)\u001b[0m\u001b[0;34m\u001b[0m\u001b[0m\n\u001b[0;32m---> 49\u001b[0;31m         \u001b[0mloss\u001b[0m\u001b[0;34m.\u001b[0m\u001b[0mbackward\u001b[0m\u001b[0;34m(\u001b[0m\u001b[0;34m)\u001b[0m\u001b[0;34m\u001b[0m\u001b[0m\n\u001b[0m\u001b[1;32m     50\u001b[0m         \u001b[0mtrain_loss\u001b[0m \u001b[0;34m+=\u001b[0m \u001b[0mloss\u001b[0m\u001b[0;34m.\u001b[0m\u001b[0mitem\u001b[0m\u001b[0;34m(\u001b[0m\u001b[0;34m)\u001b[0m\u001b[0;34m\u001b[0m\u001b[0m\n\u001b[1;32m     51\u001b[0m         \u001b[0moptimizer\u001b[0m\u001b[0;34m.\u001b[0m\u001b[0mstep\u001b[0m\u001b[0;34m(\u001b[0m\u001b[0;34m)\u001b[0m\u001b[0;34m\u001b[0m\u001b[0m\n",
            "\u001b[0;32m/usr/local/lib/python3.6/dist-packages/torch/tensor.py\u001b[0m in \u001b[0;36mbackward\u001b[0;34m(self, gradient, retain_graph, create_graph)\u001b[0m\n\u001b[1;32m     91\u001b[0m                 \u001b[0mproducts\u001b[0m\u001b[0;34m.\u001b[0m \u001b[0mDefaults\u001b[0m \u001b[0mto\u001b[0m\u001b[0;31m \u001b[0m\u001b[0;31m`\u001b[0m\u001b[0;31m`\u001b[0m\u001b[0;32mFalse\u001b[0m\u001b[0;31m`\u001b[0m\u001b[0;31m`\u001b[0m\u001b[0;34m.\u001b[0m\u001b[0;34m\u001b[0m\u001b[0m\n\u001b[1;32m     92\u001b[0m         \"\"\"\n\u001b[0;32m---> 93\u001b[0;31m         \u001b[0mtorch\u001b[0m\u001b[0;34m.\u001b[0m\u001b[0mautograd\u001b[0m\u001b[0;34m.\u001b[0m\u001b[0mbackward\u001b[0m\u001b[0;34m(\u001b[0m\u001b[0mself\u001b[0m\u001b[0;34m,\u001b[0m \u001b[0mgradient\u001b[0m\u001b[0;34m,\u001b[0m \u001b[0mretain_graph\u001b[0m\u001b[0;34m,\u001b[0m \u001b[0mcreate_graph\u001b[0m\u001b[0;34m)\u001b[0m\u001b[0;34m\u001b[0m\u001b[0m\n\u001b[0m\u001b[1;32m     94\u001b[0m \u001b[0;34m\u001b[0m\u001b[0m\n\u001b[1;32m     95\u001b[0m     \u001b[0;32mdef\u001b[0m \u001b[0mregister_hook\u001b[0m\u001b[0;34m(\u001b[0m\u001b[0mself\u001b[0m\u001b[0;34m,\u001b[0m \u001b[0mhook\u001b[0m\u001b[0;34m)\u001b[0m\u001b[0;34m:\u001b[0m\u001b[0;34m\u001b[0m\u001b[0m\n",
            "\u001b[0;32m/usr/local/lib/python3.6/dist-packages/torch/autograd/__init__.py\u001b[0m in \u001b[0;36mbackward\u001b[0;34m(tensors, grad_tensors, retain_graph, create_graph, grad_variables)\u001b[0m\n\u001b[1;32m     88\u001b[0m     Variable._execution_engine.run_backward(\n\u001b[1;32m     89\u001b[0m         \u001b[0mtensors\u001b[0m\u001b[0;34m,\u001b[0m \u001b[0mgrad_tensors\u001b[0m\u001b[0;34m,\u001b[0m \u001b[0mretain_graph\u001b[0m\u001b[0;34m,\u001b[0m \u001b[0mcreate_graph\u001b[0m\u001b[0;34m,\u001b[0m\u001b[0;34m\u001b[0m\u001b[0m\n\u001b[0;32m---> 90\u001b[0;31m         allow_unreachable=True)  # allow_unreachable flag\n\u001b[0m\u001b[1;32m     91\u001b[0m \u001b[0;34m\u001b[0m\u001b[0m\n\u001b[1;32m     92\u001b[0m \u001b[0;34m\u001b[0m\u001b[0m\n",
            "\u001b[0;31mKeyboardInterrupt\u001b[0m: "
          ]
        }
      ]
    },
    {
      "metadata": {
        "id": "GyQ3-xkrR1XX",
        "colab_type": "code",
        "colab": {
          "base_uri": "https://localhost:8080/",
          "height": 323
        },
        "outputId": "f66e2bb3-f1f9-46fc-d6b5-eaf69e91cbc3"
      },
      "cell_type": "code",
      "source": [
        "model.beta\n",
        "_, ind = torch.sort(model.beta, 0)\n",
        "# ind.numpy()[0:50, 0] - ind.numpy()[0:50, 1]\n",
        "print(np.array(vectorizer.get_feature_names())[ind.numpy()][0:20, 0])\n",
        "print(np.array(vectorizer.get_feature_names())[ind.numpy()][0:20, 1])\n",
        "print(np.array(vectorizer.get_feature_names())[ind.numpy()][0:20, 2])\n",
        "print(np.array(vectorizer.get_feature_names())[ind.numpy()][0:20, 3])\n",
        "print(np.array(vectorizer.get_feature_names())[ind.numpy()][0:20, 4])\n",
        "print(np.array(vectorizer.get_feature_names())[ind.numpy()][0:20, 5])\n",
        "# print(np.array(vectorizer.get_feature_names())[ind.numpy()][0:20, 7])\n",
        "# print(np.array(vectorizer.get_feature_names())[ind.numpy()][0:20, 8])\n",
        "# print(np.array(vectorizer.get_feature_names())[ind.numpy()][0:20, 9])\n",
        "# print(np.array(vectorizer.get_feature_names())[ind.numpy()][0:20, 15])\n",
        "# print(np.array(vectorizer.get_feature_names())[ind.numpy()][0:20, 19])"
      ],
      "execution_count": 426,
      "outputs": [
        {
          "output_type": "stream",
          "text": [
            "['special' 'poster' 'wouldn' 'christians' 'service' 'guest' 'library'\n",
            " 'names' 'forces' 'pat' 'utexas' 'follow' 'copy' 'meant' 'nation'\n",
            " 'relevant' 'chips' 'sea' 'hours' 'sick']\n",
            "['wants' 'lab' 'cambridge' 'status' 'flames' 'box' 'noted' 'drug'\n",
            " 'companies' 'criminal' 'cmu' 'color' 'particular' 'corp' 'suspect'\n",
            " 'despite' 'graphics' 'options' 'steve' 'copies']\n",
            "['christians' 'forget' 'open' 'games' 'style' 'respect' 'received'\n",
            " 'transfer' 'clear' 'max' 'hall' 'disclaimer' 'jews' 'matter' 'added'\n",
            " 'caught' 'clock' 'change' 'specific' 'scsi']\n",
            "['sex' 'latest' 'comparison' 'bear' 'player' 'open' 'speed' 'difficult'\n",
            " 'week' 'fbi' 'issues' 'christ' 'freenet' 'listen' 'apply' 'banks'\n",
            " 'covered' 'appear' 'update' 'spot']\n",
            "['advanced' 'nature' 'took' 'sold' 'twice' 'interface' 'broken' 'guy'\n",
            " 'tony' 'algorithm' 'patrick' 'sign' 'office' 'lord' 'country' 'ide'\n",
            " 'acts' 'rob' 'track' 'buying']\n",
            "['food' 'guide' 'ice' 'ran' 'months' 'correct' 'conditions' 'readers'\n",
            " 'outside' 'copies' 'rocket' 'design' 'clear' 'chance' 'clock' 'open'\n",
            " 'shouldn' 'paul' 'nice' 'ready']\n"
          ],
          "name": "stdout"
        }
      ]
    },
    {
      "metadata": {
        "id": "-geZP7XKtadI",
        "colab_type": "code",
        "colab": {
          "base_uri": "https://localhost:8080/",
          "height": 34
        },
        "outputId": "342ea635-ab44-4823-971f-fe5f00075386"
      },
      "cell_type": "code",
      "source": [
        "# a = torch.randn(100, 128)\n",
        "a = torch.tensor([[1,2,3], [4,5,6]]).float()\n",
        "b = torch.tensor([[1,2,3], [4,5,6]]).float()\n",
        "\n",
        "F.cosine_similarity(a, b)"
      ],
      "execution_count": 406,
      "outputs": [
        {
          "output_type": "execute_result",
          "data": {
            "text/plain": [
              "tensor([1.0000, 1.0000])"
            ]
          },
          "metadata": {
            "tags": []
          },
          "execution_count": 406
        }
      ]
    },
    {
      "metadata": {
        "id": "i5N3s6HCGpxy",
        "colab_type": "text"
      },
      "cell_type": "markdown",
      "source": [
        "Get word vectors and topic vectors"
      ]
    },
    {
      "metadata": {
        "id": "SCcYRL2ySugm",
        "colab_type": "code",
        "colab": {
          "base_uri": "https://localhost:8080/",
          "height": 34
        },
        "outputId": "b9ade89e-e46b-4aa8-c2a4-9d94e4eb93bf"
      },
      "cell_type": "code",
      "source": [
        "a = torch.tensor([1])\n",
        "a.add(torch.tensor([2]))\n",
        "print(a)"
      ],
      "execution_count": 341,
      "outputs": [
        {
          "output_type": "stream",
          "text": [
            "tensor([1])\n"
          ],
          "name": "stdout"
        }
      ]
    },
    {
      "metadata": {
        "id": "mOdUu6iSGBVP",
        "colab_type": "code",
        "colab": {
          "base_uri": "https://localhost:8080/",
          "height": 51
        },
        "outputId": "3a8f25b8-c968-4794-cebf-06a6afebdde5"
      },
      "cell_type": "code",
      "source": [
        "for i in range(0, 2):\n",
        "  print(i)"
      ],
      "execution_count": 255,
      "outputs": [
        {
          "output_type": "stream",
          "text": [
            "0\n",
            "1\n"
          ],
          "name": "stdout"
        }
      ]
    },
    {
      "metadata": {
        "id": "6dG8db3b3c-y",
        "colab_type": "code",
        "colab": {
          "base_uri": "https://localhost:8080/",
          "height": 170
        },
        "outputId": "542421f7-0775-4485-c8c8-732e2df68091"
      },
      "cell_type": "code",
      "source": [
        "to"
      ],
      "execution_count": 187,
      "outputs": [
        {
          "output_type": "execute_result",
          "data": {
            "text/plain": [
              "Parameter containing:\n",
              "tensor([[ 1.0982, -0.6489,  0.0177,  ...,  0.7344,  0.6163,  0.6307],\n",
              "        [-0.6461,  0.5238, -0.1179,  ..., -1.1260, -0.5322,  0.7694],\n",
              "        [ 1.2182,  0.6254,  0.0470,  ...,  1.6700,  0.4856,  2.6060],\n",
              "        ...,\n",
              "        [ 0.5594,  1.2776,  1.0770,  ...,  0.8158,  1.5054, -0.4085],\n",
              "        [ 1.0393, -0.1039,  0.9977,  ...,  1.5477, -0.1037,  0.0440],\n",
              "        [ 0.7130,  1.8861, -1.6776,  ..., -0.1981,  1.5925, -1.3581]],\n",
              "       requires_grad=True)"
            ]
          },
          "metadata": {
            "tags": []
          },
          "execution_count": 187
        }
      ]
    },
    {
      "metadata": {
        "id": "1n0TXZhZG9Er",
        "colab_type": "text"
      },
      "cell_type": "markdown",
      "source": [
        "Get topic distributions"
      ]
    },
    {
      "metadata": {
        "id": "EIvkM_22DhY-",
        "colab_type": "code",
        "colab": {
          "base_uri": "https://localhost:8080/",
          "height": 34
        },
        "outputId": "86746194-5412-421a-f76a-5813328d9663"
      },
      "cell_type": "code",
      "source": [
        "unscaled_topics = torch.mm(model.word_embedding(torch.tensor(np.arange(doc_term_matrix.shape[1]))),\n",
        "         torch.transpose(model.topicslayer.weight, 0, 1))\n",
        "topic_dist = torch.softmax(unscaled_topics, dim = 0) \n",
        "topic_dist.sum(dim = 0)"
      ],
      "execution_count": 183,
      "outputs": [
        {
          "output_type": "execute_result",
          "data": {
            "text/plain": [
              "tensor([1.0000, 1.0000, 1.0000, 1.0000], grad_fn=<SumBackward1>)"
            ]
          },
          "metadata": {
            "tags": []
          },
          "execution_count": 183
        }
      ]
    },
    {
      "metadata": {
        "id": "bR5eDznAHONV",
        "colab_type": "text"
      },
      "cell_type": "markdown",
      "source": [
        "This one helped us a lot"
      ]
    },
    {
      "metadata": {
        "id": "z16IGTridRPf",
        "colab_type": "code",
        "colab": {
          "base_uri": "https://localhost:8080/",
          "height": 351
        },
        "outputId": "9e684533-0527-4dfc-929b-402285e716ee"
      },
      "cell_type": "code",
      "source": [
        "#model.encode(torch.LongTensor(doc_term_matrix[0]))\n",
        "#input = torch.tensor(doc_term_matrix).float()\n",
        "input = torch.tensor(doc_term_matrix).float()[[0, 1], ]\n",
        "mu, sigma = model.encode(input)\n",
        "z = model.reparameterize(mu, sigma)\n",
        "# model.decode(x, input.shape[0])\n",
        "\n",
        "x = model.fc3(z)\n",
        "theta = F.softmax(x) # to get theta\n",
        "embedding_matrix = model.word_embedding(torch.tensor(np.arange(14)))\n",
        "word_dot_topic = model.fc4(embedding_matrix) # weights corresp to topic vector\n",
        "beta = F.softmax(word_dot_topic)\n",
        "log_theta_dot_beta = torch.log(torch.mm(theta, torch.transpose(beta, 0, 1)))\n",
        "#theta_dot_beta = torch.exp(log_theta_dot_beta - torch.logsumexp(log_theta_dot_beta, dim = 0))\n",
        "log_theta_dot_beta_normalized = log_theta_dot_beta - torch.logsumexp(log_theta_dot_beta, dim = 0)\n",
        "# print(theta.shape)\n",
        "# print(theta)\n",
        "# print(embedding_matrix)\n",
        "# print(word_dot_topic)\n",
        "print(beta.shape)\n",
        "print(beta)\n",
        "print(log_theta_dot_beta)\n",
        "print(torch.exp(log_theta_dot_beta_normalized))\n"
      ],
      "execution_count": 270,
      "outputs": [
        {
          "output_type": "error",
          "ename": "AttributeError",
          "evalue": "ignored",
          "traceback": [
            "\u001b[0;31m---------------------------------------------------------------------------\u001b[0m",
            "\u001b[0;31mAttributeError\u001b[0m                            Traceback (most recent call last)",
            "\u001b[0;32m<ipython-input-270-b9bfe4a0b8a2>\u001b[0m in \u001b[0;36m<module>\u001b[0;34m()\u001b[0m\n\u001b[1;32m      4\u001b[0m \u001b[0;31m# model.decode(x, input.shape[0])\u001b[0m\u001b[0;34m\u001b[0m\u001b[0;34m\u001b[0m\u001b[0m\n\u001b[1;32m      5\u001b[0m \u001b[0;34m\u001b[0m\u001b[0m\n\u001b[0;32m----> 6\u001b[0;31m \u001b[0mx\u001b[0m \u001b[0;34m=\u001b[0m \u001b[0mmodel\u001b[0m\u001b[0;34m.\u001b[0m\u001b[0mfc3\u001b[0m\u001b[0;34m(\u001b[0m\u001b[0mz\u001b[0m\u001b[0;34m)\u001b[0m\u001b[0;34m\u001b[0m\u001b[0m\n\u001b[0m\u001b[1;32m      7\u001b[0m \u001b[0mtheta\u001b[0m \u001b[0;34m=\u001b[0m \u001b[0mF\u001b[0m\u001b[0;34m.\u001b[0m\u001b[0msoftmax\u001b[0m\u001b[0;34m(\u001b[0m\u001b[0mx\u001b[0m\u001b[0;34m)\u001b[0m \u001b[0;31m# to get theta\u001b[0m\u001b[0;34m\u001b[0m\u001b[0m\n\u001b[1;32m      8\u001b[0m \u001b[0membedding_matrix\u001b[0m \u001b[0;34m=\u001b[0m \u001b[0mmodel\u001b[0m\u001b[0;34m.\u001b[0m\u001b[0mword_embedding\u001b[0m\u001b[0;34m(\u001b[0m\u001b[0mtorch\u001b[0m\u001b[0;34m.\u001b[0m\u001b[0mtensor\u001b[0m\u001b[0;34m(\u001b[0m\u001b[0mnp\u001b[0m\u001b[0;34m.\u001b[0m\u001b[0marange\u001b[0m\u001b[0;34m(\u001b[0m\u001b[0;36m14\u001b[0m\u001b[0;34m)\u001b[0m\u001b[0;34m)\u001b[0m\u001b[0;34m)\u001b[0m\u001b[0;34m\u001b[0m\u001b[0m\n",
            "\u001b[0;32m/usr/local/lib/python3.6/dist-packages/torch/nn/modules/module.py\u001b[0m in \u001b[0;36m__getattr__\u001b[0;34m(self, name)\u001b[0m\n\u001b[1;32m    516\u001b[0m                 \u001b[0;32mreturn\u001b[0m \u001b[0mmodules\u001b[0m\u001b[0;34m[\u001b[0m\u001b[0mname\u001b[0m\u001b[0;34m]\u001b[0m\u001b[0;34m\u001b[0m\u001b[0m\n\u001b[1;32m    517\u001b[0m         raise AttributeError(\"'{}' object has no attribute '{}'\".format(\n\u001b[0;32m--> 518\u001b[0;31m             type(self).__name__, name))\n\u001b[0m\u001b[1;32m    519\u001b[0m \u001b[0;34m\u001b[0m\u001b[0m\n\u001b[1;32m    520\u001b[0m     \u001b[0;32mdef\u001b[0m \u001b[0m__setattr__\u001b[0m\u001b[0;34m(\u001b[0m\u001b[0mself\u001b[0m\u001b[0;34m,\u001b[0m \u001b[0mname\u001b[0m\u001b[0;34m,\u001b[0m \u001b[0mvalue\u001b[0m\u001b[0;34m)\u001b[0m\u001b[0;34m:\u001b[0m\u001b[0;34m\u001b[0m\u001b[0m\n",
            "\u001b[0;31mAttributeError\u001b[0m: 'VAE' object has no attribute 'fc3'"
          ]
        }
      ]
    },
    {
      "metadata": {
        "id": "YPbnTiNpCcaO",
        "colab_type": "code",
        "colab": {
          "base_uri": "https://localhost:8080/",
          "height": 238
        },
        "outputId": "11798aae-8123-4d39-8576-3c00e612beef"
      },
      "cell_type": "code",
      "source": [
        "#model.encode(torch.LongTensor(doc_term_matrix[0]))\n",
        "#input = torch.tensor(doc_term_matrix).float()\n",
        "input = torch.tensor(doc_term_matrix).float()[[0, 1], ]\n",
        "print(input)\n",
        "mu, sigma = model.encode(input)\n",
        "z = model.reparameterize(mu, sigma)\n",
        "print(z)\n",
        "# model.decode(x, input.shape[0])\n",
        "\n",
        "\n",
        "# x = model.lin2(z)\n",
        "# theta = F.softmax(x) # to get theta\n",
        "# embedding_matrix = model.word_embedding(torch.tensor(np.arange(model.num_docs)))\n",
        "# word_dot_topic = model.topicslayer(embedding_matrix) # weights corresp to topic vector\n",
        "# model.beta = F.softmax(word_dot_topic, dim = 0)\n",
        "# log_theta_dot_beta = torch.log(torch.mm(theta, torch.transpose(model.beta, 0, 1)))\n",
        "# #theta_dot_beta = torch.exp(log_theta_dot_beta - torch.logsumexp(log_theta_dot_beta, dim = 0))\n",
        "# log_theta_dot_beta_normalized = log_theta_dot_beta - torch.logsumexp(log_theta_dot_beta, dim = 0)\n",
        "# print(embedding_matrix.shape) # dim of embedding matrix is 1544 x 100\n",
        "\n",
        "\n",
        "x = model.lin2(z)\n",
        "theta = F.softmax(x, 1) # to get theta\n",
        "print(theta.sum(1))\n",
        "embedding_matrix = model.word_embedding.weight\n",
        "print(model.word_embedding(torch.tensor(np.arange(model.num_docs))).shape)\n",
        "print(embedding_matrix.shape)\n",
        "word_dot_topic = model.topicslayer(embedding_matrix) # weights corresp to topic vector\n",
        "model.beta = F.softmax(word_dot_topic, dim = 0)\n",
        "log_theta_dot_beta = torch.log(torch.mm(theta, torch.transpose(model.beta, 0, 1)))\n",
        "#theta_dot_beta = torch.exp(log_theta_dot_beta - torch.logsumexp(log_theta_dot_beta, dim = 0))\n",
        "log_theta_dot_beta_normalized = log_theta_dot_beta - torch.logsumexp(log_theta_dot_beta, dim = 0)\n",
        "# print(embedding_matrix.shape) # dim of embedding matrix is still 1544 x 100\n"
      ],
      "execution_count": 284,
      "outputs": [
        {
          "output_type": "stream",
          "text": [
            "tensor([[0., 0., 0.,  ..., 0., 0., 0.],\n",
            "        [0., 0., 0.,  ..., 0., 0., 0.]])\n",
            "tensor([[-0.3542, -0.9824,  1.6668,  0.2909, -1.7727,  1.6447, -0.0335, -0.3574,\n",
            "         -1.0229,  0.9524,  0.7662, -0.0573,  0.7221, -0.9453,  0.6689, -0.3142,\n",
            "          1.1116, -0.5060, -0.5279,  0.1749,  0.5559, -0.7530, -0.2019, -0.1538,\n",
            "          1.5552],\n",
            "        [ 1.1045,  0.5738, -1.3214,  0.2868,  0.1640, -0.9203,  0.2256, -1.9079,\n",
            "         -0.8485, -0.1582,  0.7142, -0.5238,  0.4466, -0.1109,  0.0060,  0.5935,\n",
            "         -2.4257, -1.1120, -0.1708, -0.0022, -3.3380, -0.6230, -0.6414,  2.1400,\n",
            "          0.5324]], grad_fn=<ThAddBackward>)\n",
            "tensor([1.0000, 1.0000], grad_fn=<SumBackward1>)\n",
            "torch.Size([1544, 100])\n",
            "torch.Size([1544, 100])\n"
          ],
          "name": "stdout"
        }
      ]
    },
    {
      "metadata": {
        "id": "Lh2eLudHDncY",
        "colab_type": "code",
        "colab": {}
      },
      "cell_type": "code",
      "source": [
        ""
      ],
      "execution_count": 0,
      "outputs": []
    }
  ]
}