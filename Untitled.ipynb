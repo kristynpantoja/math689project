{
 "cells": [
  {
   "cell_type": "code",
   "execution_count": 3,
   "metadata": {},
   "outputs": [],
   "source": [
    "import torch\n",
    "import torch.nn as nn\n",
    "from torch.autograd import Variable\n",
    "from torch.nn import Parameter\n",
    "import torch.nn.functional as F\n",
    "import math"
   ]
  },
  {
   "cell_type": "code",
   "execution_count": 4,
   "metadata": {},
   "outputs": [],
   "source": [
    "input1 = torch.randn(100, 128)\n",
    "input2 = torch.randn(100, 128)\n",
    "cos = nn.CosineSimilarity(dim=1, eps=1e-6)\n",
    "output = cos(input1, input2)"
   ]
  },
  {
   "cell_type": "code",
   "execution_count": 7,
   "metadata": {},
   "outputs": [
    {
     "data": {
      "text/plain": [
       "tensor([-0.0621, -0.0312,  0.0682,  0.0510, -0.1322,  0.0258, -0.1020,\n",
       "        -0.0245,  0.1011, -0.1762,  0.0506,  0.0717,  0.0404, -0.0866,\n",
       "         0.0103, -0.0811,  0.0486,  0.0468,  0.1231,  0.0609,  0.0619,\n",
       "         0.1928, -0.0532, -0.0123,  0.0023, -0.0314,  0.1844, -0.0933,\n",
       "        -0.0539, -0.2171, -0.0225, -0.1032, -0.1414,  0.0513,  0.0267,\n",
       "         0.1271, -0.0912, -0.0867, -0.0130,  0.0042,  0.0230,  0.0009,\n",
       "        -0.0976, -0.0391,  0.0656,  0.0776, -0.0373, -0.1282, -0.0396,\n",
       "        -0.0667, -0.0223, -0.0289, -0.1797,  0.1487, -0.0096, -0.1106,\n",
       "        -0.1081, -0.1064, -0.0149, -0.1165,  0.0305,  0.0903, -0.0653,\n",
       "        -0.0164,  0.0942, -0.0208,  0.1142,  0.0524, -0.1565, -0.0780,\n",
       "        -0.1462,  0.0735,  0.0862, -0.0446,  0.1111, -0.1010, -0.0818,\n",
       "         0.0685,  0.0446,  0.0282, -0.0213,  0.0490,  0.0163,  0.0420,\n",
       "        -0.1652, -0.0103,  0.1292,  0.1157, -0.1605, -0.0735, -0.0503,\n",
       "         0.0556,  0.0044,  0.0169, -0.1259,  0.0485,  0.0219,  0.0589,\n",
       "         0.1005,  0.0535])"
      ]
     },
     "execution_count": 7,
     "metadata": {},
     "output_type": "execute_result"
    }
   ],
   "source": [
    "output"
   ]
  },
  {
   "cell_type": "code",
   "execution_count": null,
   "metadata": {},
   "outputs": [],
   "source": []
  }
 ],
 "metadata": {
  "kernelspec": {
   "display_name": "Python 3",
   "language": "python",
   "name": "python3"
  },
  "language_info": {
   "codemirror_mode": {
    "name": "ipython",
    "version": 3
   },
   "file_extension": ".py",
   "mimetype": "text/x-python",
   "name": "python",
   "nbconvert_exporter": "python",
   "pygments_lexer": "ipython3",
   "version": "3.6.5"
  }
 },
 "nbformat": 4,
 "nbformat_minor": 2
}
