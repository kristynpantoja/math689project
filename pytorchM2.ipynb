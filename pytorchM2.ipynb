{
  "nbformat": 4,
  "nbformat_minor": 0,
  "metadata": {
    "colab": {
      "name": "pytorchM2.ipynb",
      "version": "0.3.2",
      "provenance": [],
      "collapsed_sections": [
        "FrATqONaiDBo"
      ],
      "include_colab_link": true
    },
    "kernelspec": {
      "display_name": "Python [default]",
      "language": "python",
      "name": "python3"
    }
  },
  "cells": [
    {
      "cell_type": "markdown",
      "metadata": {
        "id": "view-in-github",
        "colab_type": "text"
      },
      "source": [
        "<a href=\"https://colab.research.google.com/github/kristynpantoja/math689project/blob/master/pytorchM2.ipynb\" target=\"_parent\"><img src=\"https://colab.research.google.com/assets/colab-badge.svg\" alt=\"Open In Colab\"/></a>"
      ]
    },
    {
      "metadata": {
        "colab_type": "code",
        "id": "Yzom68CRUCUt",
        "outputId": "3dc633ef-c8ae-4c74-fbd2-ef139a54e878",
        "colab": {
          "base_uri": "https://localhost:8080/",
          "height": 34
        }
      },
      "cell_type": "code",
      "source": [
        "!pip install torch"
      ],
      "execution_count": 1,
      "outputs": [
        {
          "output_type": "stream",
          "text": [
            "Requirement already satisfied: torch in /usr/local/lib/python3.6/dist-packages (0.4.1)\n"
          ],
          "name": "stdout"
        }
      ]
    },
    {
      "metadata": {
        "colab_type": "code",
        "id": "L382anKLUwuE",
        "outputId": "0b417eeb-46fe-4751-b91d-2747007ec49d",
        "colab": {
          "base_uri": "https://localhost:8080/",
          "height": 275
        }
      },
      "cell_type": "code",
      "source": [
        "!pip install torchvision"
      ],
      "execution_count": 2,
      "outputs": [
        {
          "output_type": "stream",
          "text": [
            "Collecting torchvision\n",
            "\u001b[?25l  Downloading https://files.pythonhosted.org/packages/ca/0d/f00b2885711e08bd71242ebe7b96561e6f6d01fdb4b9dcf4d37e2e13c5e1/torchvision-0.2.1-py2.py3-none-any.whl (54kB)\n",
            "\u001b[K    100% |████████████████████████████████| 61kB 3.4MB/s \n",
            "\u001b[?25hCollecting pillow>=4.1.1 (from torchvision)\n",
            "\u001b[?25l  Downloading https://files.pythonhosted.org/packages/62/94/5430ebaa83f91cc7a9f687ff5238e26164a779cca2ef9903232268b0a318/Pillow-5.3.0-cp36-cp36m-manylinux1_x86_64.whl (2.0MB)\n",
            "\u001b[K    100% |████████████████████████████████| 2.0MB 9.9MB/s \n",
            "\u001b[?25hRequirement already satisfied: six in /usr/local/lib/python3.6/dist-packages (from torchvision) (1.11.0)\n",
            "Requirement already satisfied: numpy in /usr/local/lib/python3.6/dist-packages (from torchvision) (1.14.6)\n",
            "Requirement already satisfied: torch in /usr/local/lib/python3.6/dist-packages (from torchvision) (0.4.1)\n",
            "Installing collected packages: pillow, torchvision\n",
            "  Found existing installation: Pillow 4.0.0\n",
            "    Uninstalling Pillow-4.0.0:\n",
            "      Successfully uninstalled Pillow-4.0.0\n",
            "Successfully installed pillow-5.3.0 torchvision-0.2.1\n"
          ],
          "name": "stdout"
        }
      ]
    },
    {
      "metadata": {
        "colab_type": "text",
        "id": "pJ2ybE0_FuhI"
      },
      "cell_type": "markdown",
      "source": [
        "Model Parameters"
      ]
    },
    {
      "metadata": {
        "colab_type": "code",
        "id": "Y96bktYniWeB",
        "outputId": "2ff05a3b-6365-4313-aeda-5504a46af919",
        "colab": {
          "base_uri": "https://localhost:8080/",
          "height": 734
        }
      },
      "cell_type": "code",
      "source": [
        "!pip install gensim"
      ],
      "execution_count": 3,
      "outputs": [
        {
          "output_type": "stream",
          "text": [
            "Collecting gensim\n",
            "\u001b[?25l  Downloading https://files.pythonhosted.org/packages/27/a4/d10c0acc8528d838cda5eede0ee9c784caa598dbf40bd0911ff8d067a7eb/gensim-3.6.0-cp36-cp36m-manylinux1_x86_64.whl (23.6MB)\n",
            "\u001b[K    100% |████████████████████████████████| 23.6MB 1.4MB/s \n",
            "\u001b[?25hRequirement already satisfied: six>=1.5.0 in /usr/local/lib/python3.6/dist-packages (from gensim) (1.11.0)\n",
            "Collecting smart-open>=1.2.1 (from gensim)\n",
            "  Downloading https://files.pythonhosted.org/packages/4b/1f/6f27e3682124de63ac97a0a5876da6186de6c19410feab66c1543afab055/smart_open-1.7.1.tar.gz\n",
            "Requirement already satisfied: scipy>=0.18.1 in /usr/local/lib/python3.6/dist-packages (from gensim) (1.1.0)\n",
            "Requirement already satisfied: numpy>=1.11.3 in /usr/local/lib/python3.6/dist-packages (from gensim) (1.14.6)\n",
            "Collecting boto>=2.32 (from smart-open>=1.2.1->gensim)\n",
            "\u001b[?25l  Downloading https://files.pythonhosted.org/packages/23/10/c0b78c27298029e4454a472a1919bde20cb182dab1662cec7f2ca1dcc523/boto-2.49.0-py2.py3-none-any.whl (1.4MB)\n",
            "\u001b[K    100% |████████████████████████████████| 1.4MB 12.0MB/s \n",
            "\u001b[?25hCollecting bz2file (from smart-open>=1.2.1->gensim)\n",
            "  Downloading https://files.pythonhosted.org/packages/61/39/122222b5e85cd41c391b68a99ee296584b2a2d1d233e7ee32b4532384f2d/bz2file-0.98.tar.gz\n",
            "Requirement already satisfied: requests in /usr/local/lib/python3.6/dist-packages (from smart-open>=1.2.1->gensim) (2.18.4)\n",
            "Collecting boto3 (from smart-open>=1.2.1->gensim)\n",
            "\u001b[?25l  Downloading https://files.pythonhosted.org/packages/da/d9/5c892a943fede7db0c0d3bd653570208ffb3c163bc57c1a9354acd65c921/boto3-1.9.42-py2.py3-none-any.whl (128kB)\n",
            "\u001b[K    100% |████████████████████████████████| 133kB 18.3MB/s \n",
            "\u001b[?25hRequirement already satisfied: idna<2.7,>=2.5 in /usr/local/lib/python3.6/dist-packages (from requests->smart-open>=1.2.1->gensim) (2.6)\n",
            "Requirement already satisfied: urllib3<1.23,>=1.21.1 in /usr/local/lib/python3.6/dist-packages (from requests->smart-open>=1.2.1->gensim) (1.22)\n",
            "Requirement already satisfied: chardet<3.1.0,>=3.0.2 in /usr/local/lib/python3.6/dist-packages (from requests->smart-open>=1.2.1->gensim) (3.0.4)\n",
            "Requirement already satisfied: certifi>=2017.4.17 in /usr/local/lib/python3.6/dist-packages (from requests->smart-open>=1.2.1->gensim) (2018.10.15)\n",
            "Collecting s3transfer<0.2.0,>=0.1.10 (from boto3->smart-open>=1.2.1->gensim)\n",
            "\u001b[?25l  Downloading https://files.pythonhosted.org/packages/d7/14/2a0004d487464d120c9fb85313a75cd3d71a7506955be458eebfe19a6b1d/s3transfer-0.1.13-py2.py3-none-any.whl (59kB)\n",
            "\u001b[K    100% |████████████████████████████████| 61kB 16.1MB/s \n",
            "\u001b[?25hCollecting jmespath<1.0.0,>=0.7.1 (from boto3->smart-open>=1.2.1->gensim)\n",
            "  Downloading https://files.pythonhosted.org/packages/b7/31/05c8d001f7f87f0f07289a5fc0fc3832e9a57f2dbd4d3b0fee70e0d51365/jmespath-0.9.3-py2.py3-none-any.whl\n",
            "Collecting botocore<1.13.0,>=1.12.42 (from boto3->smart-open>=1.2.1->gensim)\n",
            "\u001b[?25l  Downloading https://files.pythonhosted.org/packages/6f/ad/706263fda4a8c673fd58c1cf03160dfdcf093d6614130193d3ce12a81fad/botocore-1.12.42-py2.py3-none-any.whl (4.8MB)\n",
            "\u001b[K    100% |████████████████████████████████| 4.8MB 3.1MB/s \n",
            "\u001b[?25hCollecting docutils>=0.10 (from botocore<1.13.0,>=1.12.42->boto3->smart-open>=1.2.1->gensim)\n",
            "\u001b[?25l  Downloading https://files.pythonhosted.org/packages/36/fa/08e9e6e0e3cbd1d362c3bbee8d01d0aedb2155c4ac112b19ef3cae8eed8d/docutils-0.14-py3-none-any.whl (543kB)\n",
            "\u001b[K    100% |████████████████████████████████| 552kB 15.5MB/s \n",
            "\u001b[?25hRequirement already satisfied: python-dateutil<3.0.0,>=2.1; python_version >= \"2.7\" in /usr/local/lib/python3.6/dist-packages (from botocore<1.13.0,>=1.12.42->boto3->smart-open>=1.2.1->gensim) (2.5.3)\n",
            "Building wheels for collected packages: smart-open, bz2file\n",
            "  Running setup.py bdist_wheel for smart-open ... \u001b[?25l-\b \b\\\b \bdone\n",
            "\u001b[?25h  Stored in directory: /root/.cache/pip/wheels/23/00/44/e5b939f7a80c04e32297dbd6d96fa3065af89ecf57e2b5f89f\n",
            "  Running setup.py bdist_wheel for bz2file ... \u001b[?25l-\b \bdone\n",
            "\u001b[?25h  Stored in directory: /root/.cache/pip/wheels/81/75/d6/e1317bf09bf1af5a30befc2a007869fa6e1f516b8f7c591cb9\n",
            "Successfully built smart-open bz2file\n",
            "Installing collected packages: boto, bz2file, docutils, jmespath, botocore, s3transfer, boto3, smart-open, gensim\n",
            "Successfully installed boto-2.49.0 boto3-1.9.42 botocore-1.12.42 bz2file-0.98 docutils-0.14 gensim-3.6.0 jmespath-0.9.3 s3transfer-0.1.13 smart-open-1.7.1\n"
          ],
          "name": "stdout"
        }
      ]
    },
    {
      "metadata": {
        "colab_type": "code",
        "id": "f5gixJ2PhDZy",
        "colab": {}
      },
      "cell_type": "code",
      "source": [
        "from __future__ import print_function\n",
        "import argparse\n",
        "import torch\n",
        "import torch.utils.data\n",
        "from torch import nn, optim\n",
        "from torch.nn import functional as F\n",
        "from torch.autograd import Variable\n",
        "# from torchvision import datasets, transforms\n",
        "# from torchvision.utils import save_image\n",
        "\n",
        "from types import SimpleNamespace\n",
        "\n",
        "from sklearn.datasets import fetch_20newsgroups\n",
        "import numpy as np\n",
        "import torch\n",
        "\n",
        "from sklearn.metrics.pairwise import cosine_similarity\n",
        "\n",
        "from sklearn.feature_extraction.text import CountVectorizer\n",
        "\n",
        "from gensim.models import Word2Vec, KeyedVectors"
      ],
      "execution_count": 0,
      "outputs": []
    },
    {
      "metadata": {
        "colab_type": "text",
        "id": "-D3sQR-gF0Vk"
      },
      "cell_type": "markdown",
      "source": [
        "Data: 20newsgroups\n",
        "We get the document-term matrix"
      ]
    },
    {
      "metadata": {
        "colab_type": "code",
        "id": "TNUmE8UMGRMh",
        "colab": {}
      },
      "cell_type": "code",
      "source": [
        "# categories = ['talk.politics.guns', 'sci.space', 'soc.religion.christian',\n",
        "#               'misc.forsale', 'rec.sport.baseball', 'comp.sys.mac.hardware']\n",
        "categories = ['talk.politics.guns', 'sci.space']\n",
        "# newsgroups_train = fetch_20newsgroups(subset='train', categories=categories)\n",
        "newsgroups_train = fetch_20newsgroups(subset='train')\n",
        "vectorizer = CountVectorizer(stop_words = 'english', min_df=.01, max_df=0.9, \n",
        "                             token_pattern = u'(?ui)\\\\b[a-z]{3,}\\\\b')\n",
        "count_vecs = vectorizer.fit_transform(newsgroups_train.data)\n",
        "doc_term_matrix = count_vecs.toarray()\n",
        "doc_term_matrix.shape # number of documents, number of words (in vocab)\n",
        "tokenizer = vectorizer.build_tokenizer()\n",
        "\n",
        "doc_term_matrix_tensor = torch.from_numpy(doc_term_matrix).float()"
      ],
      "execution_count": 0,
      "outputs": []
    },
    {
      "metadata": {
        "colab_type": "code",
        "id": "XtIb9CFS59LP",
        "outputId": "46f516e1-5494-4699-9b89-308878c4d1e5",
        "colab": {
          "base_uri": "https://localhost:8080/",
          "height": 34
        }
      },
      "cell_type": "code",
      "source": [
        "doc_term_matrix.shape # vocab size"
      ],
      "execution_count": 22,
      "outputs": [
        {
          "output_type": "execute_result",
          "data": {
            "text/plain": [
              "(1139, 2441)"
            ]
          },
          "metadata": {
            "tags": []
          },
          "execution_count": 22
        }
      ]
    },
    {
      "metadata": {
        "colab_type": "code",
        "id": "ilQe6iCsZ9VO",
        "colab": {}
      },
      "cell_type": "code",
      "source": [
        "len(vectorizer.get_feature_names())"
      ],
      "execution_count": 0,
      "outputs": []
    },
    {
      "metadata": {
        "colab_type": "code",
        "id": "oft5ScQFZyEw",
        "colab": {}
      },
      "cell_type": "code",
      "source": [
        "dict_word_freq = dict(zip(vectorizer.get_feature_names(), list(doc_term_matrix.sum(0))))"
      ],
      "execution_count": 0,
      "outputs": []
    },
    {
      "metadata": {
        "colab_type": "text",
        "id": "ECE01K5OF9r0"
      },
      "cell_type": "markdown",
      "source": [
        "ragged array of words in each document (by index in vocabulary)"
      ]
    },
    {
      "metadata": {
        "colab_type": "code",
        "id": "NKDN2_x45V44",
        "colab": {}
      },
      "cell_type": "code",
      "source": [
        "# def countsToInput(row):\n",
        "#   return np.repeat(np.arange(doc_term_matrix.shape[1]),row)\n",
        "  \n",
        "# def numWords(row):\n",
        "#   return row.sum()\n",
        "\n",
        "# N_train = np.apply_along_axis(numWords, axis=1, arr=doc_term_matrix)\n",
        "# data_train = []\n",
        "# for d in range(doc_term_matrix.shape[0]):\n",
        "#   data_train.append(torch.from_numpy(countsToInput(doc_term_matrix[d])))"
      ],
      "execution_count": 0,
      "outputs": []
    },
    {
      "metadata": {
        "colab_type": "text",
        "id": "FrATqONaiDBo"
      },
      "cell_type": "markdown",
      "source": [
        "## Word2vec"
      ]
    },
    {
      "metadata": {
        "colab_type": "code",
        "id": "aLXYF7P7xSEn",
        "outputId": "42d5e689-d30e-4033-b7cc-580066da3576",
        "colab": {
          "base_uri": "https://localhost:8080/",
          "height": 34
        }
      },
      "cell_type": "code",
      "source": [
        "# ideally, we would do some preprocessing\n",
        "newsgroups_train_preproc = []\n",
        "for document in newsgroups_train.data:\n",
        "    newsgroups_train_preproc.append(document.split())\n",
        "\n",
        "# make the model\n",
        "w2v = Word2Vec(sg=1, negative=5, size=100, window=10, min_count=1, max_vocab_size=None, max_final_vocab=None)\n",
        "# w2v.build_vocab(newsgroups_train_preproc)\n",
        "w2v.build_vocab_from_freq(word_freq = dict_word_freq)\n",
        "# train the model\n",
        "w2v.train(sentences=newsgroups_train_preproc,epochs=10, total_examples=doc_term_matrix.shape[1])\n",
        "# save the model\n",
        "# w2v.save(\"sg_1_M2\")"
      ],
      "execution_count": 7,
      "outputs": [
        {
          "output_type": "execute_result",
          "data": {
            "text/plain": [
              "(625260, 3791210)"
            ]
          },
          "metadata": {
            "tags": []
          },
          "execution_count": 7
        }
      ]
    },
    {
      "metadata": {
        "colab_type": "code",
        "id": "-nNkaKgu7Dsp",
        "colab": {}
      },
      "cell_type": "code",
      "source": [
        "len(set([item for sublist in newsgroups_train_preproc for item in sublist]))"
      ],
      "execution_count": 0,
      "outputs": []
    },
    {
      "metadata": {
        "colab_type": "code",
        "id": "2EBD-baJ70bC",
        "colab": {}
      },
      "cell_type": "code",
      "source": [
        "  torch.tensor(w2v.syn1neg).shape"
      ],
      "execution_count": 0,
      "outputs": []
    },
    {
      "metadata": {
        "colab_type": "code",
        "id": "eTmRNeXU6Od7",
        "colab": {}
      },
      "cell_type": "code",
      "source": [
        "len(w2v.wv.vocab)"
      ],
      "execution_count": 0,
      "outputs": []
    },
    {
      "metadata": {
        "colab_type": "code",
        "id": "LcpyWmcDGrjR",
        "colab": {}
      },
      "cell_type": "code",
      "source": [
        "doc_term_matrix.shape[1] == len(w2v.wv.vocab)"
      ],
      "execution_count": 0,
      "outputs": []
    },
    {
      "metadata": {
        "colab_type": "code",
        "id": "DTX4Rsqf4IVr",
        "colab": {}
      },
      "cell_type": "code",
      "source": [
        "w2v.syn1neg"
      ],
      "execution_count": 0,
      "outputs": []
    },
    {
      "metadata": {
        "colab_type": "code",
        "id": "Qe0oJvkE21H3",
        "colab": {}
      },
      "cell_type": "code",
      "source": [
        "w2v.wv.most_similar(\"university\")"
      ],
      "execution_count": 0,
      "outputs": []
    },
    {
      "metadata": {
        "colab_type": "text",
        "id": "8ASbgnVqGDvU"
      },
      "cell_type": "markdown",
      "source": [
        "## Setup for Model"
      ]
    },
    {
      "metadata": {
        "colab_type": "code",
        "id": "HoGhPn8n4Gok",
        "colab": {}
      },
      "cell_type": "code",
      "source": [
        "# from types import SimpleNamespace\n",
        "# args_dict = {\"batch_size\" : 50, \"epochs\" : 50, \"no_cuda\" : False, \"seed\" : 1, \"log_interval\" : 10}\n",
        "# args = SimpleNamespace(**args_dict)\n",
        "# args.epochs\n",
        "# args.cuda = not args.no_cuda and torch.cuda.is_available()\n",
        "\n",
        "args_dict = {\"batch_size\" : 50, \"epochs\" : 30, \"no_cuda\" : False, \"seed\" : 1, \n",
        "             \"log_interval\" : 100, \"nogpu\" : True}\n",
        "args = SimpleNamespace(**args_dict)\n",
        "args.cuda = not args.no_cuda and torch.cuda.is_available()\n",
        "\n",
        "torch.manual_seed(args.seed)\n",
        "\n",
        "device = torch.device(\"cuda\" if args.cuda else \"cpu\")\n",
        "\n",
        "# kwargs = {'num_workers': 1, 'pin_memory': True} if args.cuda else {}\n",
        "# train_loader = torch.utils.data.DataLoader(\n",
        "#     datasets.MNIST('../data', train=True, download=True,\n",
        "#                    transform=transforms.ToTensor()),\n",
        "#     batch_size=args.batch_size, shuffle=True, **kwargs)\n",
        "# test_loader = torch.utils.data.DataLoader(\n",
        "#     datasets.MNIST('../data', train=False, transform=transforms.ToTensor()),\n",
        "#     batch_size=args.batch_size, shuffle=True, **kwargs)\n",
        "\n",
        "\n",
        "\n"
      ],
      "execution_count": 0,
      "outputs": []
    },
    {
      "metadata": {
        "colab_type": "text",
        "id": "6E6F6rVgGXnS"
      },
      "cell_type": "markdown",
      "source": [
        "Define model"
      ]
    },
    {
      "metadata": {
        "colab_type": "code",
        "id": "vwZfWV16T97w",
        "colab": {}
      },
      "cell_type": "code",
      "source": [
        "class VAE(nn.Module):\n",
        "    def __init__(self, vocab_size, num_docs, wordvec_dim, encoder_hidden, rp_normal_dim, num_samples, K):\n",
        "        super(VAE, self).__init__()\n",
        "        \n",
        "        self.vocab_size = vocab_size\n",
        "        self.num_samples = num_samples\n",
        "        self.num_docs = num_docs\n",
        "        self.K = K\n",
        "        \n",
        "        self.word_embedding = nn.Embedding(vocab_size, wordvec_dim) # decoder\n",
        "#         self.word_embedding = nn.Embedding.from_pretrained(torch.tensor(w2v.syn1neg), freeze=True)\n",
        "        self.topic_embedding = nn.Embedding(K, wordvec_dim) # decoder\n",
        "        self.lin1 = nn.Linear(vocab_size, encoder_hidden) # encoder\n",
        "        self.mean = nn.Linear(encoder_hidden, rp_normal_dim) # encoder\n",
        "#         self.mean_bn = nn.BatchNorm1d(rp_normal_dim)\n",
        "        self.logvar = nn.Linear(encoder_hidden, rp_normal_dim) # encoder\n",
        "#         self.logvar_bn = nn.BatchNorm1d(rp_normal_dim)\n",
        "        self.lin2 = nn.Linear(rp_normal_dim, K) # decoder \n",
        "        self.dropout = nn.Dropout(p=0.8)\n",
        "        \n",
        "        self.beta = torch.zeros([vocab_size, K], dtype = torch.float32) # decoder\n",
        "#         self.theta = torch.zeros([10, K], dtype = torch.float32)\n",
        "\n",
        "        ###\n",
        "#         self.decoder = nn.Linear(K, vocab_size) ### vocab_size == 1995 in the paper\n",
        "#         self.decoder_bn = nn.BatchNorm1d(vocab_size) \n",
        "        ###\n",
        "\n",
        "        # prior mean and variance as constant buffers\n",
        "        prior_mean   = torch.Tensor(1, rp_normal_dim).fill_(0)\n",
        "        prior_var    = torch.Tensor(1, rp_normal_dim).fill_(0.995)\n",
        "        prior_logvar = prior_var.log()\n",
        "        self.register_buffer('prior_mean',    prior_mean)\n",
        "        self.register_buffer('prior_var',     prior_var)\n",
        "        self.register_buffer('prior_logvar',  prior_logvar)\n",
        "\n",
        "    def encode(self, x):\n",
        "        h1 = F.relu(self.lin1(x))\n",
        "        h2 = self.dropout(h1)\n",
        "#         return self.mean_bn(self.mean(h2)), self.mean_bn(self.logvar(h2))\n",
        "        return self.mean(h2), self.logvar(h2)\n",
        "\n",
        "    def reparameterize(self, mu, logvar):\n",
        "        std = torch.exp(0.5*logvar) # get sigma\n",
        "        eps = torch.randn_like(std) # get epsilon, generated from N(0, I_k) where k is dimension of std: k x 1\n",
        "        return eps.mul(std).add_(mu) # this gives x ~ N(mu, var)\n",
        "        # note: .mul is element-wise multiplication - this is fine, since sigma is diagonal matrix\n",
        "\n",
        "      \n",
        "    def decode(self, z, docs):\n",
        "        x = self.lin2(z) \n",
        "        theta = F.softmax(x, dim = 1) # to get theta, dim = batch size x K\n",
        "        \n",
        "        ###\n",
        "#         recon = F.softmax(self.decoder_bn(self.decoder(theta))) # batch size x V\n",
        "#         return recon\n",
        "        ###\n",
        "        \n",
        "        self.beta = F.softmax(self.word_embedding.weight.mm(self.topic_embedding.weight.t()), dim = 0) # beta, dim = V x K\n",
        "#         print(theta)\n",
        "#         print(self.beta)\n",
        "#         print(docs.mm(self.beta).mm(theta.t()).diag())\n",
        "\n",
        "#         log_theta_dot_beta = docs.mm((self.beta.mm(theta.t())).log()) # dim is B x B\n",
        "        log_theta_dot_beta = theta.mm(self.beta.t()) # output is B x V\n",
        "        return log_theta_dot_beta\n",
        "#         return log_theta_dot_beta.sum()\n",
        "        \n",
        "        \n",
        "    def forward(self, docs):\n",
        "        mu, logvar = self.encode(docs)\n",
        "        log_p = torch.zeros(1)\n",
        "        z = self.reparameterize(mu, logvar)\n",
        "        recon = self.decode(z, docs)\n",
        "        return recon, self.loss(docs, recon, mu, logvar, logvar.exp())\n",
        "      \n",
        "      \n",
        "    def loss(self, docs, recon, posterior_mean, posterior_logvar, posterior_var, avg=True):\n",
        "      # NL\n",
        "      NL  = -(docs * (recon+1e-10).log()).sum(1) # vector with batch-size number of elements\n",
        "      # KLD, see Section 3.3 of Akash Srivastava and Charles Sutton, 2017, \n",
        "      # https://arxiv.org/pdf/1703.01488.pdf\n",
        "      prior_mean   = Variable(self.prior_mean).expand_as(posterior_mean) # batch-size x num_topics\n",
        "      prior_var    = Variable(self.prior_var).expand_as(posterior_mean)\n",
        "      prior_logvar = Variable(self.prior_logvar).expand_as(posterior_mean)\n",
        "      var_division    = posterior_var  / prior_var\n",
        "      diff            = posterior_mean - prior_mean\n",
        "      diff_term       = diff * diff / prior_var\n",
        "      logvar_division = prior_logvar - posterior_logvar\n",
        "      # put KLD together\n",
        "      KLD = 0.5 * ( (var_division + diff_term + logvar_division).sum(1) - self.K)\n",
        "#       print(KLD.mean())\n",
        "      # loss\n",
        "      loss = (NL + KLD)\n",
        "      # in traiming mode, return averaged loss. In testing mode, return individual loss\n",
        "      if avg:\n",
        "          return loss.mean() # averaged over all the documents in the batch (1/batch_size)*sum\n",
        "      else:\n",
        "          return loss\n",
        "\n",
        "def train():\n",
        "    for epoch in range(args.epochs):\n",
        "        all_indices = torch.randperm(doc_term_matrix_tensor.size(0)).split(args.batch_size)\n",
        "        loss_epoch = 0.0\n",
        "        model.train()                   # switch to training mode\n",
        "        for batch_indices in all_indices:\n",
        "            if not args.nogpu: batch_indices = batch_indices.cuda()\n",
        "            docs = Variable(doc_term_matrix_tensor[batch_indices])\n",
        "#             print(batch_indices.shape)\n",
        "#             print(docs.shape)\n",
        "            recon, loss = model(docs)\n",
        "            # optimize\n",
        "            optimizer.zero_grad()       # clear previous gradients\n",
        "            loss.backward()             # backprop\n",
        "            optimizer.step()            # update parameters\n",
        "            # report\n",
        "            loss_epoch += loss.data[0]    # add loss to loss_epoch, then take the average in the print statement\n",
        "        if epoch % 5 == 0:\n",
        "            print('Epoch {}, loss={}'.format(epoch, loss_epoch / len(all_indices)))       "
      ],
      "execution_count": 0,
      "outputs": []
    },
    {
      "metadata": {
        "colab_type": "text",
        "id": "uoGmoqZjaAHr"
      },
      "cell_type": "markdown",
      "source": [
        "Load training data (separate into batches)"
      ]
    },
    {
      "metadata": {
        "colab_type": "code",
        "id": "yWSJgB41sicr",
        "colab": {}
      },
      "cell_type": "code",
      "source": [
        "train_data = torch.utils.data.TensorDataset(torch.tensor(doc_term_matrix))\n",
        "train_loader = torch.utils.data.DataLoader(train_data,                                            \n",
        "    batch_size = args.batch_size, shuffle = True)\n",
        "#     batch_size = args.batch_size, shuffle = False)"
      ],
      "execution_count": 0,
      "outputs": []
    },
    {
      "metadata": {
        "colab_type": "text",
        "id": "dt0_YBz5aQEI"
      },
      "cell_type": "markdown",
      "source": [
        "instantiate model and define functions for training"
      ]
    },
    {
      "metadata": {
        "colab_type": "code",
        "id": "DO5T6YFkCTIN",
        "colab": {}
      },
      "cell_type": "code",
      "source": [
        "model = VAE(vocab_size = doc_term_matrix.shape[1], \n",
        "            num_docs = doc_term_matrix.shape[0], \n",
        "            wordvec_dim = 100, \n",
        "            encoder_hidden = 256, \n",
        "            rp_normal_dim = 50, \n",
        "            num_samples = 1,\n",
        "            K = 20)#.to(device) \n",
        "      \n",
        "optimizer = optim.Adam(model.parameters(), lr=1e-3, betas = (.99, .999))\n",
        "# optimizer = optim.RMSprop(model.parameters(), lr = 1e-3)\n",
        "\n",
        "# Reconstruction + KL divergence losses summed over all elements and batch\n",
        "# def loss_function(data, train_loader, log_theta_dot_beta, x, mu, logvar, t):\n",
        "\n",
        "# #     KLD = (-0.5) * torch.sum(1 + logvar - mu.pow(2) - logvar.exp()) # KL divergence; it's fine to sum them all up now, rather than for each sample in mini-batch, because they'll all be summed up anyways\n",
        "#     print(logvar.shape)\n",
        "#     print(mu.shape)\n",
        "#     print(data.shape)\n",
        "#     print(log_theta_dot_beta.shape)\n",
        "#     KLD = -.5 * (1 + logvar - mu.pow(2) - logvar.exp())\n",
        "# #     BCE = log_theta_dot_beta.sum()\n",
        "#     BCE = (data * log_theta_dot_beta).sum(1)\n",
        "\n",
        "# #     print(\"BCE: \" + \"{:.2f}\".format(float(BCE)))\n",
        "# #     print(\"KLD: \" + \"{:.2f}\".format(float(KLD)))\n",
        "    \n",
        "# #     return (-BCE + KLD) / len(train_loader.dataset)\n",
        "#     return (-BCE + KLD).mean()\n",
        "\n",
        "  \n",
        "  \n",
        "  \n",
        "\n",
        "\n",
        "\n",
        "enc_variables = list(model.lin1.parameters()) + list(model.mean.parameters()) + list(model.logvar.parameters())\n",
        "dec_variables = list(model.word_embedding.parameters()) + list(model.lin2.parameters()) + list(model.topic_embedding.parameters())\n",
        "\n",
        "optim_enc = optim.Adam(enc_variables, lr=1e-3, betas = (.9, .999))\n",
        "optim_dec = optim.Adam(dec_variables, lr=1e-3, betas = (.9, .999))\n",
        "\n",
        "# def train(epoch):\n",
        "#     model.train()\n",
        "#     train_loss = 0\n",
        "#     for switch in range(2):\n",
        "#         if switch == 0:\n",
        "#             print(\"updating encoder variables\")\n",
        "#             optimizer = optim_enc\n",
        "#         else:\n",
        "#             print(\"updating decoder variables\")\n",
        "#             optimizer = optim_dec\n",
        "#         for batch_idx, data in enumerate(train_loader):\n",
        "#     #         data = data.to(device)\n",
        "#             optimizer.zero_grad()\n",
        "#             log_theta_beta, mu, logvar, topic_vecs = model(data[0].float(), data[0].shape[0])\n",
        "#             loss = loss_function(data[0].float(), train_loader, log_theta_beta, data, mu, logvar, topic_vecs)\n",
        "#             loss.backward()\n",
        "#             train_loss += loss.item()\n",
        "#             optimizer.step()\n",
        "#             if batch_idx % args.log_interval == 0:\n",
        "#                 print('Train Epoch: {} [{}/{} ({:.0f}%)]\\tLoss: {:.6f}'.format(\n",
        "#                     epoch, batch_idx * data[0].shape[0], len(train_loader.dataset),\n",
        "#                     100. * batch_idx / len(train_loader),\n",
        "#     #                 loss.item() / data[0].shape[0]))\n",
        "#                     loss.item() ))\n",
        "\n",
        "#         print('====> Epoch: {} Average loss: {:.4f}'.format(\n",
        "#               epoch, train_loss / len(train_loader.dataset)))\n",
        "\n",
        "#         return train_loss / len(train_loader.dataset)\n",
        "\n",
        "\n",
        "# def test(epoch):\n",
        "#     model.eval()\n",
        "#     test_loss = 0\n",
        "#     with torch.no_grad():\n",
        "#         for i, (data, _) in enumerate(test_loader):\n",
        "#             data = data.to(device)\n",
        "#             recon_batch, mu, logvar = model(data)\n",
        "#             test_loss += loss_function(recon_batch, data, mu, logvar).item()\n",
        "#             if i == 0:\n",
        "#                 n = min(data.size(0), 8)\n",
        "#                 comparison = torch.cat([data[:n],\n",
        "#                                       recon_batch.view(args.batch_size, 1, 28, 28)[:n]])\n",
        "# #                 save_image(comparison.cpu(),\n",
        "# #                          'results/reconstruction_' + str(epoch) + '.png', nrow=n)\n",
        "\n",
        "#     test_loss /= len(test_loader.dataset)\n",
        "#     print('====> Test set loss: {:.4f}'.format(test_loss))\n",
        "\n",
        "# if __name__ == \"__main__\":\n",
        "#     for epoch in range(1, args.epochs + 1):\n",
        "#         train(epoch)\n",
        "#         test(epoch)\n",
        "#         with torch.no_grad():\n",
        "#             sample = torch.randn(64, 20).to(device)\n",
        "#             sample = model.decode(sample).cpu()\n",
        "#             save_image(sample.view(64, 1, 28, 28),\n",
        "#                        'results/sample_' + str(epoch) + '.png')"
      ],
      "execution_count": 0,
      "outputs": []
    },
    {
      "metadata": {
        "colab_type": "text",
        "id": "zuF9sAfDGjUE"
      },
      "cell_type": "markdown",
      "source": [
        " train the model"
      ]
    },
    {
      "metadata": {
        "colab_type": "code",
        "id": "XY-GsKzb3b_h",
        "outputId": "8741323b-8706-440e-bc4f-3f9f130feecd",
        "colab": {
          "base_uri": "https://localhost:8080/",
          "height": 156
        }
      },
      "cell_type": "code",
      "source": [
        "# losses = []\n",
        "# for epoch in range(1, args.epochs + 1):\n",
        "#     losses.append(train(epoch))\n",
        "#     if epoch > 1:\n",
        "#         if np.abs(losses[epoch-1] - losses[epoch-2]) < 1e-2:\n",
        "#             break\n",
        "train()\n",
        "\n"
      ],
      "execution_count": 96,
      "outputs": [
        {
          "output_type": "stream",
          "text": [
            "/usr/local/lib/python3.6/dist-packages/ipykernel_launcher.py:117: UserWarning: invalid index of a 0-dim tensor. This will be an error in PyTorch 0.5. Use tensor.item() to convert a 0-dim tensor to a Python number\n"
          ],
          "name": "stderr"
        },
        {
          "output_type": "stream",
          "text": [
            "Epoch 0, loss=23469.783203125\n",
            "Epoch 5, loss=823431.8125\n",
            "Epoch 10, loss=1775.6143798828125\n",
            "Epoch 15, loss=588.0286254882812\n",
            "Epoch 20, loss=573.9539794921875\n",
            "Epoch 25, loss=2504.423095703125\n"
          ],
          "name": "stdout"
        }
      ]
    },
    {
      "metadata": {
        "id": "Np_Ow5NG7ZIH",
        "colab_type": "code",
        "colab": {}
      },
      "cell_type": "code",
      "source": [
        "associations = {\n",
        "    'jesus': ['prophet', 'jesus', 'matthew', 'christ', 'worship', 'church'],\n",
        "    'comp ': ['floppy', 'windows', 'microsoft', 'monitor', 'workstation', 'macintosh', \n",
        "              'printer', 'programmer', 'colormap', 'scsi', 'jpeg', 'compression'],\n",
        "    'car  ': ['wheel', 'tire'],\n",
        "    'polit': ['amendment', 'libert', 'regulation', 'president'],\n",
        "    'crime': ['violent', 'homicide', 'rape'],\n",
        "    'midea': ['lebanese', 'israel', 'lebanon', 'palest'],\n",
        "    'sport': ['coach', 'hitter', 'pitch'],\n",
        "    'gears': ['helmet', 'bike'],\n",
        "    'nasa ': ['orbit', 'spacecraft'],\n",
        "}\n",
        "def identify_topic_in_line(line):\n",
        "    topics = []\n",
        "    for topic, keywords in associations.items():\n",
        "        for word in keywords:\n",
        "            if word in line:\n",
        "                topics.append(topic)\n",
        "                break\n",
        "    return topics\n",
        "def print_top_words(beta, feature_names, n_top_words=10):\n",
        "    print('---------------Printing the Topics------------------')\n",
        "    for i in range(len(beta)):\n",
        "        line = \" \".join([feature_names[j] \n",
        "                            for j in beta[i].argsort()[:-n_top_words - 1:-1]])\n",
        "        topics = identify_topic_in_line(line)\n",
        "        print('|'.join(topics))\n",
        "        print('     {}'.format(line))\n",
        "    print('---------------End of Topics------------------')"
      ],
      "execution_count": 0,
      "outputs": []
    },
    {
      "metadata": {
        "id": "uH5NRioC7aRs",
        "colab_type": "code",
        "colab": {
          "base_uri": "https://localhost:8080/",
          "height": 731
        },
        "outputId": "bce4b7f4-0df3-443d-fb3f-707570457e49"
      },
      "cell_type": "code",
      "source": [
        "# emb = model.decoder.weight.data.cpu().numpy().T\n",
        "# print(\"shape of beta is \" + str(emb.shape))\n",
        "print_top_words(model.beta.detach().numpy()\n",
        "                .T, vectorizer.get_feature_names())"
      ],
      "execution_count": 98,
      "outputs": [
        {
          "output_type": "stream",
          "text": [
            "---------------Printing the Topics------------------\n",
            "jesus|comp \n",
            "     point read research windows paul interested players fast open christianity\n",
            "\n",
            "     use question help program non won technology window gun change\n",
            "\n",
            "     host think team year sure available got let data sun\n",
            "\n",
            "     like access true tell andrew value unix later version unless\n",
            "\n",
            "     com thanks going org hear service points league uiuc control\n",
            "\n",
            "     right car home wrong important numbers key couldn white sent\n",
            "\n",
            "     state say did didn really david just bit list number\n",
            "midea\n",
            "     computer thing gov far post israel current common saying disk\n",
            "\n",
            "     writes world way government great fact software distribution times send\n",
            "\n",
            "     reply said university does distribution used just drive work run\n",
            "jesus\n",
            "     information right christian earth house matter care understand player john\n",
            "\n",
            "     article posting know problem does just long public science course\n",
            "jesus\n",
            "     nntp university usa look game jesus man bad work just\n",
            "\n",
            "     good new max day called quite support national display apr\n",
            "\n",
            "     god power case different type systems play lot hockey keywords\n",
            "comp \n",
            "     want mail group scsi possible second order standard message told\n",
            "\n",
            "     edu people make chip high set max way ftp image\n",
            "\n",
            "     don believe real left law start ago given version encryption\n",
            "\n",
            "     better evidence truth instead money robert problems communications effect fax\n",
            "\n",
            "     time need things card probably ibm years thought came free\n",
            "---------------End of Topics------------------\n"
          ],
          "name": "stdout"
        }
      ]
    },
    {
      "metadata": {
        "id": "wL6q7Pzo7aXS",
        "colab_type": "code",
        "colab": {
          "base_uri": "https://localhost:8080/",
          "height": 170
        },
        "outputId": "5c40ef23-0830-41fa-8cbd-76ce20f14a4d"
      },
      "cell_type": "code",
      "source": [
        "model.parameters"
      ],
      "execution_count": 90,
      "outputs": [
        {
          "output_type": "execute_result",
          "data": {
            "text/plain": [
              "<bound method Module.parameters of VAE(\n",
              "  (word_embedding): Embedding(1739, 100)\n",
              "  (topic_embedding): Embedding(20, 100)\n",
              "  (lin1): Linear(in_features=1739, out_features=256, bias=True)\n",
              "  (mean): Linear(in_features=256, out_features=50, bias=True)\n",
              "  (logvar): Linear(in_features=256, out_features=50, bias=True)\n",
              "  (lin2): Linear(in_features=50, out_features=20, bias=True)\n",
              "  (dropout): Dropout(p=0.8)\n",
              ")>"
            ]
          },
          "metadata": {
            "tags": []
          },
          "execution_count": 90
        }
      ]
    },
    {
      "metadata": {
        "id": "GU8GwP1t7aaj",
        "colab_type": "code",
        "colab": {}
      },
      "cell_type": "code",
      "source": [
        ""
      ],
      "execution_count": 0,
      "outputs": []
    },
    {
      "metadata": {
        "id": "f6aRZQQ47aea",
        "colab_type": "code",
        "colab": {}
      },
      "cell_type": "code",
      "source": [
        ""
      ],
      "execution_count": 0,
      "outputs": []
    },
    {
      "metadata": {
        "id": "4Dvbti3h7aVF",
        "colab_type": "code",
        "colab": {
          "base_uri": "https://localhost:8080/",
          "height": 34
        },
        "outputId": "6acb6f49-d03d-4803-eecb-61ebe2428f1f"
      },
      "cell_type": "code",
      "source": [
        "model.beta.shape"
      ],
      "execution_count": 29,
      "outputs": [
        {
          "output_type": "execute_result",
          "data": {
            "text/plain": [
              "torch.Size([1739, 50])"
            ]
          },
          "metadata": {
            "tags": []
          },
          "execution_count": 29
        }
      ]
    },
    {
      "metadata": {
        "colab_type": "code",
        "id": "GyQ3-xkrR1XX",
        "outputId": "62e106a1-ddcf-4a6c-f80a-6e3e910825bd",
        "colab": {
          "base_uri": "https://localhost:8080/",
          "height": 187
        }
      },
      "cell_type": "code",
      "source": [
        "# beta = F.softmax(model.word_embedding.weight.mm(model.topic_embedding.weight.t()))\n",
        "\n",
        "beta = model.decoder.weight.softmax(1)\n",
        "print(beta.sum(1).shape)\n",
        "print(beta.shape)\n",
        "_, ind = torch.sort(beta, 0)\n",
        "# ind.numpy()[0:50, 0] - ind.numpy()[0:50, 1]\n",
        "print(np.array(vectorizer.get_feature_names())[ind.numpy()][0:25, 0])\n",
        "print(np.array(vectorizer.get_feature_names())[ind.numpy()][0:25, 1])\n",
        "# print(np.array(vectorizer.get_feature_names())[ind.numpy()][0:20, 2])\n",
        "# print(np.array(vectorizer.get_feature_names())[ind.numpy()][0:20, 3])\n",
        "# print(np.array(vectorizer.get_feature_names())[ind.numpy()][0:20, 4])\n",
        "# print(np.array(vectorizer.get_feature_names())[ind.numpy()][0:20, 5])\n",
        "# print(np.array(vectorizer.get_feature_names())[ind.numpy()][0:20, 7])\n",
        "# print(np.array(vectorizer.get_feature_names())[ind.numpy()][0:20, 8])\n",
        "# print(np.array(vectorizer.get_feature_names())[ind.numpy()][0:20, 9])\n",
        "# print(np.array(vectorizer.get_feature_names())[ind.numpy()][0:20, 15])\n",
        "# print(np.array(vectorizer.get_feature_names())[ind.numpy()][0:20, 19])"
      ],
      "execution_count": 19,
      "outputs": [
        {
          "output_type": "stream",
          "text": [
            "torch.Size([2441])\n",
            "torch.Size([2441, 2])\n",
            "['ins' 'ended' 'units' 'suggestion' 'model' 'bruce' 'jupiter' 'myers'\n",
            " 'charles' 'cadlab' 'obviously' 'term' 'charge' 'ohio' 'morning' 'lies'\n",
            " 'stated' 'began' 'machine' 'supposed' 'george' 'nation' 'signature'\n",
            " 'loved' 'drugs']\n",
            "['position' 'university' 'forms' 'success' 'trying' 'administrative'\n",
            " 'fighting' 'specific' 'orbital' 'chances' 'opportunity' 'gnv' 'math'\n",
            " 'like' 'car' 'weight' 'articles' 'worthwhile' 'exists' 'galaxy'\n",
            " 'understand' 'known' 'estimate' 'cosmic' 'exactly']\n"
          ],
          "name": "stdout"
        }
      ]
    },
    {
      "metadata": {
        "colab_type": "text",
        "id": "KeltSp1qJJNH"
      },
      "cell_type": "markdown",
      "source": [
        "##  Stuff"
      ]
    },
    {
      "metadata": {
        "colab_type": "code",
        "id": "-X7Z51K4EDI2",
        "colab": {}
      },
      "cell_type": "code",
      "source": [
        "model.beta"
      ],
      "execution_count": 0,
      "outputs": []
    },
    {
      "metadata": {
        "colab_type": "code",
        "id": "-geZP7XKtadI",
        "outputId": "389e6a19-9783-44b3-c44f-f1a861ee3a66",
        "colab": {
          "base_uri": "https://localhost:8080/",
          "height": 68
        }
      },
      "cell_type": "code",
      "source": [
        "# a = torch.randn(100, 128)\n",
        "a = torch.tensor([[1,2,3], [4,5,6]]).float()\n",
        "b = torch.tensor([[1,2,3], [4,5,6]]).float()\n",
        "\n",
        "F.cosine_similarity(a, b)\n",
        "b.t()\n"
      ],
      "execution_count": 46,
      "outputs": [
        {
          "output_type": "execute_result",
          "data": {
            "text/plain": [
              "tensor([[1., 4.],\n",
              "        [2., 5.],\n",
              "        [3., 6.]])"
            ]
          },
          "metadata": {
            "tags": []
          },
          "execution_count": 46
        }
      ]
    },
    {
      "metadata": {
        "colab_type": "text",
        "id": "1n0TXZhZG9Er"
      },
      "cell_type": "markdown",
      "source": [
        "Get topic distributions"
      ]
    },
    {
      "metadata": {
        "colab_type": "code",
        "id": "EIvkM_22DhY-",
        "colab": {}
      },
      "cell_type": "code",
      "source": [
        "# unscaled_topics = torch.mm(model.word_embedding(torch.tensor(np.arange(doc_term_matrix.shape[1]))),\n",
        "#          torch.transpose(model.topicslayer.weight, 0, 1))\n",
        "# topic_dist = torch.softmax(unscaled_topics, dim = 0)\n",
        "# topic_dist.sum(dim = 0)"
      ],
      "execution_count": 0,
      "outputs": []
    },
    {
      "metadata": {
        "colab_type": "text",
        "id": "bR5eDznAHONV"
      },
      "cell_type": "markdown",
      "source": [
        "This one helped us a lot"
      ]
    },
    {
      "metadata": {
        "colab_type": "code",
        "id": "z16IGTridRPf",
        "colab": {}
      },
      "cell_type": "code",
      "source": [
        "#model.encode(torch.LongTensor(doc_term_matrix[0]))\n",
        "#input = torch.tensor(doc_term_matrix).float()\n",
        "input = torch.tensor(doc_term_matrix).float()[[0, 1], ]\n",
        "mu, sigma = model.encode(input)\n",
        "z = model.reparameterize(mu, sigma)\n",
        "# model.decode(x, input.shape[0])\n",
        "\n",
        "x = model.fc3(z)\n",
        "theta = F.softmax(x) # to get theta\n",
        "embedding_matrix = model.word_embedding(torch.tensor(np.arange(14)))\n",
        "word_dot_topic = model.fc4(embedding_matrix) # weights corresp to topic vector\n",
        "beta = F.softmax(word_dot_topic)\n",
        "log_theta_dot_beta = torch.log(torch.mm(theta, torch.transpose(beta, 0, 1)))\n",
        "#theta_dot_beta = torch.exp(log_theta_dot_beta - torch.logsumexp(log_theta_dot_beta, dim = 0))\n",
        "log_theta_dot_beta_normalized = log_theta_dot_beta - torch.logsumexp(log_theta_dot_beta, dim = 0)\n",
        "# print(theta.shape)\n",
        "# print(theta)\n",
        "# print(embedding_matrix)\n",
        "# print(word_dot_topic)\n",
        "print(beta.shape)\n",
        "print(beta)\n",
        "print(log_theta_dot_beta)\n",
        "print(torch.exp(log_theta_dot_beta_normalized))\n"
      ],
      "execution_count": 0,
      "outputs": []
    },
    {
      "metadata": {
        "colab_type": "code",
        "id": "YPbnTiNpCcaO",
        "colab": {}
      },
      "cell_type": "code",
      "source": [
        "#model.encode(torch.LongTensor(doc_term_matrix[0]))\n",
        "#input = torch.tensor(doc_term_matrix).float()\n",
        "input = torch.tensor(doc_term_matrix).float()[[0, 1], ]\n",
        "print(input)\n",
        "mu, sigma = model.encode(input)\n",
        "z = model.reparameterize(mu, sigma)\n",
        "print(z)\n",
        "# model.decode(x, input.shape[0])\n",
        "\n",
        "\n",
        "# x = model.lin2(z)\n",
        "# theta = F.softmax(x) # to get theta\n",
        "# embedding_matrix = model.word_embedding(torch.tensor(np.arange(model.num_docs)))\n",
        "# word_dot_topic = model.topicslayer(embedding_matrix) # weights corresp to topic vector\n",
        "# model.beta = F.softmax(word_dot_topic, dim = 0)\n",
        "# log_theta_dot_beta = torch.log(torch.mm(theta, torch.transpose(model.beta, 0, 1)))\n",
        "# #theta_dot_beta = torch.exp(log_theta_dot_beta - torch.logsumexp(log_theta_dot_beta, dim = 0))\n",
        "# log_theta_dot_beta_normalized = log_theta_dot_beta - torch.logsumexp(log_theta_dot_beta, dim = 0)\n",
        "# print(embedding_matrix.shape) # dim of embedding matrix is 1544 x 100\n",
        "\n",
        "\n",
        "x = model.lin2(z)\n",
        "theta = F.softmax(x, 1) # to get theta\n",
        "print(theta.sum(1))\n",
        "embedding_matrix = model.word_embedding.weight\n",
        "print(model.word_embedding(torch.tensor(np.arange(model.num_docs))).shape)\n",
        "print(embedding_matrix.shape)\n",
        "word_dot_topic = model.topicslayer(embedding_matrix) # weights corresp to topic vector\n",
        "model.beta = F.softmax(word_dot_topic, dim = 0)\n",
        "log_theta_dot_beta = torch.log(torch.mm(theta, torch.transpose(model.beta, 0, 1)))\n",
        "#theta_dot_beta = torch.exp(log_theta_dot_beta - torch.logsumexp(log_theta_dot_beta, dim = 0))\n",
        "log_theta_dot_beta_normalized = log_theta_dot_beta - torch.logsumexp(log_theta_dot_beta, dim = 0)\n",
        "# print(embedding_matrix.shape) # dim of embedding matrix is still 1544 x 100\n"
      ],
      "execution_count": 0,
      "outputs": []
    },
    {
      "metadata": {
        "colab_type": "code",
        "id": "gqevKMN6pdEn",
        "colab": {}
      },
      "cell_type": "code",
      "source": [
        "###########################\n",
        "###########################\n",
        "###########################\n",
        "\n",
        "test_input = torch.tensor(doc_term_matrix).float()[[0, 1], ] # pretend_batch_size = 2\n",
        "# print(test_input.shape) # 2 x 2441, where 2441 is vocab size\n",
        "mu, logvar = model.encode(test_input)\n",
        "# print(mu.shape) # 2 x 50\n",
        "# print(sigma.shape) # 2 x 50\n",
        "z = model.reparameterize(mu, sigma) # 2 x 50\n",
        "# print(z.shape) # 2 x 50\n",
        "output = model.decode(z)\n",
        "# print(output)\n",
        "# print(output.shape)\n",
        "\n",
        "pretend_num_docs = 50\n",
        "pretend_batch_size = test_input.shape[0]\n",
        "#print(output.sum())\n",
        "BCE = pretend_num_docs * 1.0 / pretend_batch_size * output.sum() # we sum the log probabilities\n",
        "# print(1 + logvar - mu.pow(2) - logvar.exp())\n",
        "KLD0 = -0.5 * torch.sum(1 + logvar - mu.pow(2) - logvar.exp())\n",
        "print(logvar)\n",
        "#KLD1 = -0.5 * torch.sum(2 + torch.sum(torch.cumprod(logvar)) - torch.mm(torch.transpose(mu, 1, 0),mu) - logvar.exp()) # this is a number, should be \n",
        "############################################################################################################\n",
        "#KLD2 = 0.5 * (torch.sum(logvar.exp()) + torch.dot(mu, mu) - 50 - torch.log(torch.cumprod(logvar))) ###########################\n",
        "# print(float(BCE))\n",
        "\n",
        "# print(\"BCE: \" + \"{:.2f}\".format(float(BCE)))\n",
        "# print(\"KLD: \" + \"{:.2f}\".format(float(KLD)))\n",
        "# print(\"Loss: \" + \"{:.2f}\".format(float(- BCE + KLD)))\n",
        "# return - BCE + KLD # - .1 * (zeta - nu)"
      ],
      "execution_count": 0,
      "outputs": []
    },
    {
      "metadata": {
        "colab_type": "code",
        "id": "J0K5OnFvuqcG",
        "colab": {}
      },
      "cell_type": "code",
      "source": [
        "# X'X\n",
        "torch.mm(torch.transpose(torch.tensor([[1, 2], [3, 4]]), 1, 0),torch.tensor([[1, 2], [3, 4]]))"
      ],
      "execution_count": 0,
      "outputs": []
    },
    {
      "metadata": {
        "colab_type": "text",
        "id": "oFEeCibxJFLQ"
      },
      "cell_type": "markdown",
      "source": [
        "# Topic Coherence"
      ]
    },
    {
      "metadata": {
        "colab_type": "code",
        "id": "Lh2eLudHDncY",
        "colab": {}
      },
      "cell_type": "code",
      "source": [
        "from itertools import product\n",
        "\n",
        "def topic_coherence(beta, M, doc_term_matrix):\n",
        "  K = beta.shape[1] # beta has dim V x K\n",
        "  coherences = np.zeros(K)\n",
        "  for t in range(K):\n",
        "    index = np.argsort(-beta[:, t])[0:M]\n",
        "    cart_prod = product(list(index), list(index))\n",
        "    for ind1, ind2 in cart_prod:\n",
        "      if ind1 == ind2:\n",
        "        pass\n",
        "      else:\n",
        "        d_ind1 = (doc_term_matrix[:, ind1] > 0).sum()\n",
        "        d_ind12 = ((doc_term_matrix[:, ind1] > 0) & (doc_term_matrix[:, ind2] > 0)).sum()\n",
        "        coherences[t] += np.log1p(d_ind12) - np.log(d_ind1)\n",
        "\n",
        "  return coherences"
      ],
      "execution_count": 0,
      "outputs": []
    },
    {
      "metadata": {
        "colab_type": "code",
        "id": "LKM9IxgsLWKT",
        "outputId": "633d6e1d-9501-4821-b48a-34e509a88d71",
        "colab": {
          "base_uri": "https://localhost:8080/",
          "height": 51
        }
      },
      "cell_type": "code",
      "source": [
        "topic_coherence(model.beta.detach().numpy(), 20, doc_term_matrix)"
      ],
      "execution_count": 16,
      "outputs": [
        {
          "output_type": "execute_result",
          "data": {
            "text/plain": [
              "array([-5.05942546, -5.05942546, -5.05942546, ..., -5.05942546,\n",
              "       -5.05942546, -5.05942546])"
            ]
          },
          "metadata": {
            "tags": []
          },
          "execution_count": 16
        }
      ]
    },
    {
      "metadata": {
        "colab_type": "code",
        "id": "7BuiupBeNYqZ",
        "colab": {}
      },
      "cell_type": "code",
      "source": [
        ""
      ],
      "execution_count": 0,
      "outputs": []
    }
  ]
}